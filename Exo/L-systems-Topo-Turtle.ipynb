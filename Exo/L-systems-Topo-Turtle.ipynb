{
 "cells": [
  {
   "cell_type": "markdown",
   "metadata": {},
   "source": [
    "# L-systems\n"
   ]
  },
  {
   "cell_type": "code",
   "execution_count": 5,
   "metadata": {
    "ExecuteTime": {
     "end_time": "2021-10-08T08:19:27.836820Z",
     "start_time": "2021-10-08T08:19:26.923701Z"
    }
   },
   "outputs": [
    {
     "ename": "ModuleNotFoundError",
     "evalue": "No module named 'pgljupyter'",
     "output_type": "error",
     "traceback": [
      "\u001b[0;31m---------------------------------------------------------------------------\u001b[0m",
      "\u001b[0;31mModuleNotFoundError\u001b[0m                       Traceback (most recent call last)",
      "\u001b[0;32m/tmp/ipykernel_1870678/101462121.py\u001b[0m in \u001b[0;36m<module>\u001b[0;34m\u001b[0m\n\u001b[0;32m----> 1\u001b[0;31m \u001b[0;32mfrom\u001b[0m \u001b[0mpgljupyter\u001b[0m \u001b[0;32mimport\u001b[0m \u001b[0;34m*\u001b[0m\u001b[0;34m\u001b[0m\u001b[0;34m\u001b[0m\u001b[0m\n\u001b[0m",
      "\u001b[0;31mModuleNotFoundError\u001b[0m: No module named 'pgljupyter'"
     ]
    }
   ],
   "source": [
    "from pgljupyter import *"
   ]
  },
  {
   "cell_type": "markdown",
   "metadata": {},
   "source": [
    "## L-Py syntax\n",
    "Here comes simple examples of L-systems"
   ]
  },
  {
   "cell_type": "code",
   "execution_count": 8,
   "metadata": {
    "ExecuteTime": {
     "end_time": "2021-10-08T08:20:03.099660Z",
     "start_time": "2021-10-08T08:20:03.088457Z"
    }
   },
   "outputs": [
    {
     "ename": "SyntaxError",
     "evalue": "invalid syntax (2947777575.py, line 4)",
     "output_type": "error",
     "traceback": [
      "\u001b[0;36m  File \u001b[0;32m\"/tmp/ipykernel_1870678/2947777575.py\"\u001b[0;36m, line \u001b[0;32m4\u001b[0m\n\u001b[0;31m    module Apex(age), Internode(length,radius)\u001b[0m\n\u001b[0m           ^\u001b[0m\n\u001b[0;31mSyntaxError\u001b[0m\u001b[0;31m:\u001b[0m invalid syntax\n"
     ]
    }
   ],
   "source": [
    "%%lpy -w 10 -a True\n",
    "from random import random \n",
    "MAX_AGE, dr = 10, 0.03 # constants\n",
    "module Apex(age), Internode(length,radius)\n",
    "Axiom: @Gc Apex(0)\n",
    "derivation length: 5\n",
    "production:\n",
    "Apex(age) :\n",
    "  if age < MAX_AGE:\n",
    "    produce Internode(1+ random(),0.03) /(137)[+(30)Apex(age+1)]Apex(age+1)\n",
    "\n",
    "Internode(l,r) --> Internode(l,r+dr)\n",
    "interpretation:\n",
    "Internode(l,r) --> _(r) F(l)\n",
    "endlsystem"
   ]
  },
  {
   "cell_type": "markdown",
   "metadata": {},
   "source": [
    "## Topology\n",
    "\n",
    "### String interpretation\n",
    "Interpret the following structure as an Lstring.\n",
    "\n",
    "![axialtree](./img/axialtree.png)\n"
   ]
  },
  {
   "cell_type": "code",
   "execution_count": 7,
   "metadata": {
    "ExecuteTime": {
     "end_time": "2021-10-06T15:56:04.323457Z",
     "start_time": "2021-10-06T15:56:04.314300Z"
    }
   },
   "outputs": [
    {
     "ename": "SyntaxError",
     "evalue": "invalid syntax (3088198665.py, line 3)",
     "output_type": "error",
     "traceback": [
      "\u001b[0;36m  Input \u001b[0;32mIn [7]\u001b[0;36m\u001b[0m\n\u001b[0;31m    Axiom:\u001b[0m\n\u001b[0m           ^\u001b[0m\n\u001b[0;31mSyntaxError\u001b[0m\u001b[0;31m:\u001b[0m invalid syntax\n"
     ]
    }
   ],
   "source": [
    "#AB[C[D]E[FG]H[I]J]KL[MN[O]P]QR[S]T\n",
    "%%lpy\n",
    "Axiom: "
   ]
  },
  {
   "cell_type": "markdown",
   "metadata": {},
   "source": [
    "### Multiscale string\n",
    "\n",
    "Try to interpret the following lstring code.\n",
    "\n",
    "`module S : scale = 1`\n",
    "\n",
    "`module B : scale = 2`\n",
    "\n",
    "`module N : scale = 3`\n",
    "\n",
    "$S_1B_1N_0N_1 [S_2B_2N_2 [N_3] B_3 N_4 [N_5N_6] N_7[N_8]N_9]N_{10}B_4N_{11} [S_3B_5N_{12}N_{13}[N_{14}]N_{15}]N_{16}N_{17} [N_{18}]N_{19}$\n",
    "\n",
    "- Draw a geometrical interpretation \n",
    "- What are the complexes at scale 2 of N3, N10 ,N15 ,N16 ?\n",
    "- What are the complexes at scale 1 of B3, B5?\n",
    "- What are the components at scale 3 of B3, B4, B5, S1?\n",
    "- What are the parents at scale 2 of B3, B5? at scale 3 of N2, N12?\n",
    "- What are the children at scale 3 of N4, N10 ?"
   ]
  },
  {
   "cell_type": "markdown",
   "metadata": {},
   "source": [
    "\n",
    "## Turtle Geometry\n",
    "\n",
    "A basic example of turtle syntax with F and + and - symbols."
   ]
  },
  {
   "cell_type": "code",
   "execution_count": 8,
   "metadata": {
    "ExecuteTime": {
     "end_time": "2021-10-08T08:20:38.608320Z",
     "start_time": "2021-10-08T08:20:38.593255Z"
    }
   },
   "outputs": [
    {
     "name": "stderr",
     "output_type": "stream",
     "text": [
      "UsageError: Cell magic `%%lpy` not found.\n"
     ]
    }
   ],
   "source": [
    "%%lpy -w 10\n",
    "# Set default angle to 90\n",
    "execContext().turtle.setAngleIncrement(90)\n",
    "\n",
    "Axiom: FFF-FF-F-F+F+FF-F-FFF"
   ]
  },
  {
   "cell_type": "markdown",
   "metadata": {},
   "source": [
    "#### First exercice : Draw an equilateral triangle\n",
    "\n",
    "```python\n",
    "Axiom: -(90) F(5) ... \n",
    "```\n",
    "\n",
    "![triangle](./img/triangle.png)\n",
    "\n"
   ]
  },
  {
   "cell_type": "code",
   "execution_count": 9,
   "metadata": {
    "ExecuteTime": {
     "end_time": "2021-10-08T08:22:42.217254Z",
     "start_time": "2021-10-08T08:22:42.204538Z"
    }
   },
   "outputs": [
    {
     "name": "stderr",
     "output_type": "stream",
     "text": [
      "UsageError: Cell magic `%%lpy` not found.\n"
     ]
    }
   ],
   "source": [
    "%%lpy -w 5\n",
    "\n",
    "Axiom: -(90) F(5) ..."
   ]
  },
  {
   "cell_type": "markdown",
   "metadata": {},
   "source": [
    "### Creation of a polygon\n",
    "\n",
    "Complete the axiom that will generate the following polygonal shape. Use the command F, + et -. By default, non indicated angles are equal to 90° and length to 1.\n",
    "\n",
    "```python\n",
    "Axiom: ,(2) _(0.02) { . F    ....  } (True)\n",
    "```\n",
    "\n",
    "![mappleleaf](./img/mappleleaf.png)\n",
    "\n"
   ]
  },
  {
   "cell_type": "code",
   "execution_count": 1,
   "metadata": {
    "ExecuteTime": {
     "end_time": "2021-10-06T15:56:04.370605Z",
     "start_time": "2021-10-06T15:56:04.359866Z"
    }
   },
   "outputs": [
    {
     "name": "stderr",
     "output_type": "stream",
     "text": [
      "UsageError: Cell magic `%%lpy` not found.\n"
     ]
    }
   ],
   "source": [
    "%%lpy -w 5\n",
    "\n",
    "Axiom: ,(2) _(0.02) { . F  +(90) F  -(40) F -(40) F(0.5) -(120) F +(80) F(2)  -(120) F(2)  +(80) F  -(120) F(0.5)  -(40) F  -(40) F +(90) F } (True)\n"
   ]
  },
  {
   "cell_type": "markdown",
   "metadata": {},
   "source": [
    "### Leaf shape\n",
    "\n",
    "Define a section curve for the leaf. Edit it with the editor.\n",
    "Introduce @Gc et SetContour to the axiom to change the section.\n",
    "\n",
    "```python\n",
    "Axiom:  _(0.05) ,(2)  F(1,0.3) &(20) F(1,0.2) &(10) F(1,0.01)\n",
    "\n",
    "```\n",
    "\n",
    "![sweepleaf](./img/sweepleaf.png)\n",
    "\n"
   ]
  },
  {
   "cell_type": "code",
   "execution_count": 2,
   "metadata": {
    "ExecuteTime": {
     "end_time": "2021-10-08T09:11:13.747982Z",
     "start_time": "2021-10-08T09:11:13.329932Z"
    }
   },
   "outputs": [
    {
     "ename": "ModuleNotFoundError",
     "evalue": "No module named 'openalea'",
     "output_type": "error",
     "traceback": [
      "\u001b[0;31m---------------------------------------------------------------------------\u001b[0m",
      "\u001b[0;31mModuleNotFoundError\u001b[0m                       Traceback (most recent call last)",
      "\u001b[0;32m/tmp/ipykernel_9423/2535292985.py\u001b[0m in \u001b[0;36m<module>\u001b[0;34m\u001b[0m\n\u001b[0;32m----> 1\u001b[0;31m \u001b[0;32mfrom\u001b[0m \u001b[0mopenalea\u001b[0m\u001b[0;34m.\u001b[0m\u001b[0mlpy\u001b[0m\u001b[0;34m.\u001b[0m\u001b[0mlsysparameters\u001b[0m \u001b[0;32mimport\u001b[0m \u001b[0;34m*\u001b[0m\u001b[0;34m\u001b[0m\u001b[0;34m\u001b[0m\u001b[0m\n\u001b[0m\u001b[1;32m      2\u001b[0m \u001b[0;32mfrom\u001b[0m \u001b[0mopenalea\u001b[0m\u001b[0;34m.\u001b[0m\u001b[0mplantgl\u001b[0m\u001b[0;34m.\u001b[0m\u001b[0mall\u001b[0m \u001b[0;32mimport\u001b[0m \u001b[0;34m*\u001b[0m\u001b[0;34m\u001b[0m\u001b[0;34m\u001b[0m\u001b[0m\n\u001b[1;32m      3\u001b[0m \u001b[0ml\u001b[0m \u001b[0;34m=\u001b[0m \u001b[0mLsystemParameters\u001b[0m\u001b[0;34m(\u001b[0m\u001b[0;34m)\u001b[0m\u001b[0;34m\u001b[0m\u001b[0;34m\u001b[0m\u001b[0m\n\u001b[1;32m      4\u001b[0m \u001b[0ml\u001b[0m\u001b[0;34m.\u001b[0m\u001b[0madd_curve\u001b[0m\u001b[0;34m(\u001b[0m\u001b[0;34m'section'\u001b[0m\u001b[0;34m)\u001b[0m\u001b[0;34m\u001b[0m\u001b[0;34m\u001b[0m\u001b[0m\n",
      "\u001b[0;31mModuleNotFoundError\u001b[0m: No module named 'openalea'"
     ]
    }
   ],
   "source": [
    "from openalea.lpy.lsysparameters import *\n",
    "from openalea.plantgl.all import *\n",
    "l = LsystemParameters()\n",
    "l.add_curve('section')"
   ]
  },
  {
   "cell_type": "code",
   "execution_count": 3,
   "metadata": {
    "ExecuteTime": {
     "end_time": "2021-10-08T09:12:06.169804Z",
     "start_time": "2021-10-08T09:12:06.120731Z"
    }
   },
   "outputs": [
    {
     "name": "stderr",
     "output_type": "stream",
     "text": [
      "UsageError: Cell magic `%%lpy` not found.\n"
     ]
    }
   ],
   "source": [
    "%%lpy -p l -w 5 -a True\n",
    "\n",
    "Axiom:@Gc  _(0.05) ,(2) SetContour(section) F(1,0.3) &(20) F(1,0.2) &(10) F(1,0.01)"
   ]
  },
  {
   "cell_type": "markdown",
   "metadata": {},
   "source": [
    "Define a second section curve, a path and a width function.\n",
    "Create a second model with Sweep(nerve_curve, section_curve,length, segsize,  width,width_func)\n",
    "\n",
    "```python\n",
    "Axiom:  Sweep(nerve_curve, section_curve,length, segsize,  width, width_func)\n",
    "\n",
    "```\n",
    "\n",
    "![sweepleaf](./img/sweepleaf2.png)\n"
   ]
  },
  {
   "cell_type": "code",
   "execution_count": 4,
   "metadata": {
    "ExecuteTime": {
     "end_time": "2021-10-08T09:14:24.140047Z",
     "start_time": "2021-10-08T09:14:24.133916Z"
    }
   },
   "outputs": [
    {
     "ename": "NameError",
     "evalue": "name 'LsystemParameters' is not defined",
     "output_type": "error",
     "traceback": [
      "\u001b[0;31m---------------------------------------------------------------------------\u001b[0m",
      "\u001b[0;31mNameError\u001b[0m                                 Traceback (most recent call last)",
      "\u001b[0;32m/tmp/ipykernel_9423/3833227784.py\u001b[0m in \u001b[0;36m<module>\u001b[0;34m\u001b[0m\n\u001b[0;32m----> 1\u001b[0;31m \u001b[0ml\u001b[0m \u001b[0;34m=\u001b[0m \u001b[0mLsystemParameters\u001b[0m\u001b[0;34m(\u001b[0m\u001b[0;34m)\u001b[0m\u001b[0;34m\u001b[0m\u001b[0;34m\u001b[0m\u001b[0m\n\u001b[0m\u001b[1;32m      2\u001b[0m \u001b[0ml\u001b[0m\u001b[0;34m.\u001b[0m\u001b[0madd_function\u001b[0m\u001b[0;34m(\u001b[0m\u001b[0;34m'width_variation'\u001b[0m\u001b[0;34m,\u001b[0m \u001b[0mNurbsCurve2D\u001b[0m\u001b[0;34m(\u001b[0m\u001b[0;34m[\u001b[0m\u001b[0;34m(\u001b[0m\u001b[0;36m0\u001b[0m\u001b[0;34m,\u001b[0m\u001b[0;36m1\u001b[0m\u001b[0;34m,\u001b[0m\u001b[0;36m1\u001b[0m\u001b[0;34m)\u001b[0m\u001b[0;34m,\u001b[0m\u001b[0;34m(\u001b[0m\u001b[0;36m1\u001b[0m\u001b[0;34m/\u001b[0m\u001b[0;36m3\u001b[0m\u001b[0;34m,\u001b[0m\u001b[0;36m1\u001b[0m\u001b[0;34m,\u001b[0m\u001b[0;36m1\u001b[0m\u001b[0;34m)\u001b[0m\u001b[0;34m,\u001b[0m\u001b[0;34m(\u001b[0m\u001b[0;36m2\u001b[0m\u001b[0;34m/\u001b[0m\u001b[0;36m3\u001b[0m\u001b[0;34m,\u001b[0m\u001b[0;36m1\u001b[0m\u001b[0;34m,\u001b[0m\u001b[0;36m1\u001b[0m\u001b[0;34m)\u001b[0m\u001b[0;34m,\u001b[0m\u001b[0;34m(\u001b[0m\u001b[0;36m1\u001b[0m\u001b[0;34m,\u001b[0m\u001b[0;36m0\u001b[0m\u001b[0;34m,\u001b[0m\u001b[0;36m1\u001b[0m\u001b[0;34m)\u001b[0m\u001b[0;34m]\u001b[0m\u001b[0;34m)\u001b[0m\u001b[0;34m)\u001b[0m\u001b[0;34m\u001b[0m\u001b[0;34m\u001b[0m\u001b[0m\n\u001b[1;32m      3\u001b[0m \u001b[0ml\u001b[0m\u001b[0;34m.\u001b[0m\u001b[0madd_curve\u001b[0m\u001b[0;34m(\u001b[0m\u001b[0;34m'nerve'\u001b[0m\u001b[0;34m)\u001b[0m\u001b[0;34m\u001b[0m\u001b[0;34m\u001b[0m\u001b[0m\n\u001b[1;32m      4\u001b[0m \u001b[0ml\u001b[0m\u001b[0;34m.\u001b[0m\u001b[0madd_curve\u001b[0m\u001b[0;34m(\u001b[0m\u001b[0;34m'section'\u001b[0m\u001b[0;34m)\u001b[0m\u001b[0;34m\u001b[0m\u001b[0;34m\u001b[0m\u001b[0m\n",
      "\u001b[0;31mNameError\u001b[0m: name 'LsystemParameters' is not defined"
     ]
    }
   ],
   "source": [
    "l = LsystemParameters()\n",
    "l.add_function('width_variation', NurbsCurve2D([(0,1,1),(1/3,1,1),(2/3,1,1),(1,0,1)]))\n",
    "l.add_curve('nerve')\n",
    "l.add_curve('section')"
   ]
  },
  {
   "cell_type": "code",
   "execution_count": 5,
   "metadata": {
    "ExecuteTime": {
     "end_time": "2021-10-08T09:14:24.894399Z",
     "start_time": "2021-10-08T09:14:24.822806Z"
    }
   },
   "outputs": [
    {
     "name": "stderr",
     "output_type": "stream",
     "text": [
      "UsageError: Cell magic `%%lpy` not found.\n"
     ]
    }
   ],
   "source": [
    "%%lpy -p l -w 20 -a True\n",
    "\n",
    "Axiom: ,(2) Sweep(nerve, section, 10, 0.1,  1, width_variation)"
   ]
  },
  {
   "cell_type": "markdown",
   "metadata": {},
   "source": [
    "## Branch shape\n",
    "\n",
    " - Insert an helio-tropism into the axiom. Test different values of the elasticity. Use command `@Tp` and `@Ts`\n",
    "\n",
    " - Remove tropism and insert a guide at the beginning of each branch. Edit graphically the guide to achieve curved architecture. Use `SetGuide`.\n"
   ]
  },
  {
   "cell_type": "code",
   "execution_count": 6,
   "metadata": {
    "ExecuteTime": {
     "end_time": "2021-10-07T13:04:35.226040Z",
     "start_time": "2021-10-07T13:04:35.221552Z"
    }
   },
   "outputs": [
    {
     "ename": "NameError",
     "evalue": "name 'LsystemParameters' is not defined",
     "output_type": "error",
     "traceback": [
      "\u001b[0;31m---------------------------------------------------------------------------\u001b[0m",
      "\u001b[0;31mNameError\u001b[0m                                 Traceback (most recent call last)",
      "\u001b[0;32m/tmp/ipykernel_9423/85622457.py\u001b[0m in \u001b[0;36m<module>\u001b[0;34m\u001b[0m\n\u001b[0;32m----> 1\u001b[0;31m \u001b[0ml\u001b[0m \u001b[0;34m=\u001b[0m \u001b[0mLsystemParameters\u001b[0m\u001b[0;34m(\u001b[0m\u001b[0;34m)\u001b[0m\u001b[0;34m\u001b[0m\u001b[0;34m\u001b[0m\u001b[0m\n\u001b[0m\u001b[1;32m      2\u001b[0m \u001b[0ml\u001b[0m\u001b[0;34m.\u001b[0m\u001b[0madd_curve\u001b[0m\u001b[0;34m(\u001b[0m\u001b[0;34m'section'\u001b[0m\u001b[0;34m)\u001b[0m\u001b[0;34m\u001b[0m\u001b[0;34m\u001b[0m\u001b[0m\n",
      "\u001b[0;31mNameError\u001b[0m: name 'LsystemParameters' is not defined"
     ]
    }
   ],
   "source": [
    "l = LsystemParameters()\n",
    "l.add_curve('section')"
   ]
  },
  {
   "cell_type": "code",
   "execution_count": 15,
   "metadata": {
    "ExecuteTime": {
     "end_time": "2021-10-07T13:04:36.007245Z",
     "start_time": "2021-10-07T13:04:35.965551Z"
    }
   },
   "outputs": [
    {
     "name": "stderr",
     "output_type": "stream",
     "text": [
      "UsageError: Cell magic `%%lpy` not found.\n"
     ]
    }
   ],
   "source": [
    "%%lpy -w 100 -a True -p l\n",
    "\n",
    "from openalea.plantgl.all import *\n",
    "from math import degrees,pi,cos\n",
    "from random import uniform, seed\n",
    "\n",
    "seed(0)\n",
    "l = 50.\n",
    "nl = 5\n",
    "phyllotaxy = 90\n",
    "max_order = 6\n",
    "diameter = lambda u : 0.05+0.5*(1-u)\n",
    "branching = lambda u : 40*cos(pi/2*u)+10\n",
    "\n",
    "module  A\n",
    "Axiom:@Tp SetGuide(section,l)  _(diameter(0))  @Gc A(l-1,0) \n",
    "\n",
    "derivation length: int(l)\n",
    "production:\n",
    "A(x, order) :\n",
    "    u = 1-x/l \n",
    "    if x <= 0 : produce\n",
    "    if x % nl == 0.0 and order < max_order:\n",
    "        \n",
    "       nproduce   [ /(phyllotaxy*(x/nl))  &(branching(u)) A(x-1,  order+1) ]\n",
    "    produce F(1, diameter(u)) A(x-1, order)\n"
   ]
  },
  {
   "cell_type": "markdown",
   "metadata": {},
   "source": [
    "## Phyllotaxie\n",
    "\n",
    "Reproduire ces organisations\n",
    "\n",
    "\n",
    "<img src=\"./img/phyllotaxie.png\" width=\"600\">"
   ]
  },
  {
   "cell_type": "code",
   "execution_count": 16,
   "metadata": {
    "ExecuteTime": {
     "end_time": "2021-10-07T13:16:06.960263Z",
     "start_time": "2021-10-07T13:16:06.918599Z"
    }
   },
   "outputs": [
    {
     "name": "stderr",
     "output_type": "stream",
     "text": [
      "UsageError: Cell magic `%%lpy` not found.\n"
     ]
    }
   ],
   "source": [
    "%%lpy -w 10\n",
    "Axiom: \n",
    "  for i in range(5):\n",
    "    nproduce F(1) /(137.5) [ &(120) ,(2) ~l(2) ]"
   ]
  },
  {
   "cell_type": "code",
   "execution_count": null,
   "metadata": {},
   "outputs": [],
   "source": [
    "%%lpy -w 10\n",
    "Axiom: \n",
    "  for i in range(7):\n",
    "    nproduce F(1) /(180) [ &(90) ,(2) ~l(2) ]"
   ]
  },
  {
   "cell_type": "code",
   "execution_count": null,
   "metadata": {},
   "outputs": [],
   "source": [
    "%%lpy -w 10\n",
    "Axiom: \n",
    "  for i in range(7):\n",
    "    nproduce F(1) /(90) [ &(90) ,(2) ~l(2) ]  /(180) [ &(90) ,(2) ~l(2) ]"
   ]
  },
  {
   "cell_type": "code",
   "execution_count": 1,
   "metadata": {},
   "outputs": [
    {
     "name": "stderr",
     "output_type": "stream",
     "text": [
      "UsageError: Cell magic `%%lpy` not found.\n"
     ]
    }
   ],
   "source": [
    "%%lpy -w 10\n",
    "Axiom: \n",
    "  for i in range(7):\n",
    "    \n",
    "    nproduce F(1) /(90) [ &(60) ,(i) ~l(2) ] /(60)\n",
    "    for j in range(6):\n",
    "        nproduce /(90) [ &(60) ,(j) ~l(2) ] /(60)"
   ]
  },
  {
   "cell_type": "code",
   "execution_count": null,
   "metadata": {},
   "outputs": [],
   "source": [
    "%%lpy -w 10\n",
    "Axiom: \n",
    "  for i in range(7):\n",
    "    nproduce F(1) /(90) [ &(60) ,(0) ~l(2) ]  /(60) [ &(60) ,(1) ~l(2) ]  /(60) [ &(60) ,(2) ~l(2) ] /(60) [ &(60) ,(3) ~l(2) ] /(60) [ &(60) ,(4) ~l(2) ] /(60) [ &(60) ,(5) ~l(2) ] /(60) [ &(60) ,(6) ~l(2) ]"
   ]
  }
 ],
 "metadata": {
  "kernelspec": {
   "display_name": "Python 3 (ipykernel)",
   "language": "python",
   "name": "python3"
  },
  "language_info": {
   "codemirror_mode": {
    "name": "ipython",
    "version": 3
   },
   "file_extension": ".py",
   "mimetype": "text/x-python",
   "name": "python",
   "nbconvert_exporter": "python",
   "pygments_lexer": "ipython3",
   "version": "3.10.12"
  },
  "toc": {
   "base_numbering": 1,
   "nav_menu": {},
   "number_sections": true,
   "sideBar": true,
   "skip_h1_title": false,
   "title_cell": "Table of Contents",
   "title_sidebar": "Contents",
   "toc_cell": false,
   "toc_position": {},
   "toc_section_display": true,
   "toc_window_display": false
  }
 },
 "nbformat": 4,
 "nbformat_minor": 2
}
