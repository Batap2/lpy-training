{
 "cells": [
  {
   "cell_type": "code",
   "execution_count": 8,
   "id": "2112e8e8",
   "metadata": {
    "ExecuteTime": {
     "end_time": "2021-10-07T13:39:51.777315Z",
     "start_time": "2021-10-07T13:39:51.774811Z"
    }
   },
   "outputs": [],
   "source": [
    "from pgljupyter import *"
   ]
  },
  {
   "cell_type": "markdown",
   "id": "3451b443",
   "metadata": {},
   "source": [
    "## Barnley Fern "
   ]
  },
  {
   "cell_type": "code",
   "execution_count": 22,
   "id": "a9309a54",
   "metadata": {
    "ExecuteTime": {
     "end_time": "2021-10-07T15:47:32.022453Z",
     "start_time": "2021-10-07T15:47:32.012176Z"
    }
   },
   "outputs": [
    {
     "data": {
      "application/vnd.jupyter.widget-view+json": {
       "model_id": "97707d200fff4d26abd0532c10f56bde",
       "version_major": 2,
       "version_minor": 0
      },
      "text/plain": [
       "LsystemWidget(animate=True, derivationLength=11, is_magic=True, scene={'data': b'x\\xdaSLrw\\xf5\\xf7e`Pp\\xe0\\xe5…"
      ]
     },
     "metadata": {},
     "output_type": "display_data"
    }
   ],
   "source": [
    "%%lpy -w 20 -a True\n",
    "\n",
    "s_top = 0.7 \n",
    "s_lat = 1/2\n",
    "r = 3\n",
    "Axiom: _(0.01) ,(2) A(1)\n",
    "derivation length: 10\n",
    "production:\n",
    "A(s) --> F(s) [+A(s*s_lat)]-(r)F(s)[/(180)+A(s*s_lat)]-(r)A(s*s_top)\n"
   ]
  },
  {
   "cell_type": "markdown",
   "id": "da3e0e17",
   "metadata": {},
   "source": [
    "# Trees"
   ]
  },
  {
   "cell_type": "code",
   "execution_count": 21,
   "id": "8ef939f1",
   "metadata": {
    "ExecuteTime": {
     "end_time": "2021-10-07T14:21:04.824343Z",
     "start_time": "2021-10-07T14:21:04.813234Z"
    }
   },
   "outputs": [
    {
     "data": {
      "application/vnd.jupyter.widget-view+json": {
       "model_id": "77c8ec82d6f1447d8355cadc72ad1795",
       "version_major": 2,
       "version_minor": 0
      },
      "text/plain": [
       "LsystemWidget(animate=True, derivationLength=5, is_magic=True, scene={'data': b\"x\\xdaSLrw\\xf5\\xf7e`Pp\\xe0\\xe5R…"
      ]
     },
     "metadata": {},
     "output_type": "display_data"
    }
   ],
   "source": [
    "%%lpy -a True -w 10\n",
    "from random import randint, seed\n",
    "dl = 0.5\n",
    "ds = 0.1\n",
    "seed(0)\n",
    "\n",
    "module A\n",
    "Axiom: Elasticity(0.03) @Gc A\n",
    "production:\n",
    "derivation length: 4\n",
    "\n",
    "A:\n",
    "  nproduce /(137.5) Segment(1)\n",
    "  nblateralchild = randint(2, 4)\n",
    "  for i in range(nblateralchild):\n",
    "     nproduce [  /(i*360./nblateralchild) ^(60) A ]\n",
    "\n",
    "Segment(l) --> Segment(l+dl)\n",
    "interpretation:\n",
    "A --> [,(3) f(0.1) @O ]\n",
    "Segment(l) --> nF(l,ds)\n"
   ]
  },
  {
   "cell_type": "markdown",
   "id": "e6c33aca",
   "metadata": {},
   "source": [
    "## Random patterns"
   ]
  },
  {
   "cell_type": "code",
   "execution_count": 37,
   "id": "f4dc56ef",
   "metadata": {
    "ExecuteTime": {
     "end_time": "2021-10-07T16:06:59.108207Z",
     "start_time": "2021-10-07T16:06:59.096859Z"
    }
   },
   "outputs": [
    {
     "name": "stdout",
     "output_type": "stream",
     "text": [
      "0.75\n"
     ]
    },
    {
     "data": {
      "application/vnd.jupyter.widget-view+json": {
       "model_id": "d1dd7da5ca0e42ee8e7b5f9bcf4fd26b",
       "version_major": 2,
       "version_minor": 0
      },
      "text/plain": [
       "LsystemWidget(animate=True, derivationLength=101, is_magic=True, scene={'data': b'x\\xdaSLrw\\xf5\\xf7e`Pp\\xe0\\xe…"
      ]
     },
     "metadata": {},
     "output_type": "display_data"
    }
   ],
   "source": [
    "%%lpy -w 400 -a True\n",
    "\n",
    "from random import *\n",
    "p11 = 0.750000 # probability of staying in a branched node\n",
    "p00 = 0.250000 # probability of staying in an empty node\n",
    "print((1-p00)/(2-p00-p11))\n",
    "\n",
    "Axiom: _(1) S\n",
    "derivation length: 100\n",
    "\n",
    "# x=1 = branching state\n",
    "# x=0 = non-branching state \n",
    "\n",
    "production:\n",
    "ignore: /\n",
    "S :\n",
    "    if random() <= 0.5: produce A\n",
    "    else : produce B\n",
    "\n",
    "A : #  branching\n",
    "    nproduce /(180)I[M]\n",
    "    if random() <= p11: produce A\n",
    "    else: produce B\n",
    "\n",
    "B :  # non branching\n",
    "    nproduce I\n",
    "    if random() <= p00:  produce B\n",
    "    else: produce  A\n",
    "\n",
    "\n",
    "homomorphism:\n",
    "\n",
    "M --> ;(2)+F(20)\n",
    "I --> ;(1)F(2)\n",
    "A --> ;(1)@O(3)\n"
   ]
  },
  {
   "cell_type": "markdown",
   "id": "7baf3dc1",
   "metadata": {},
   "source": [
    "## Signals"
   ]
  },
  {
   "cell_type": "code",
   "execution_count": 39,
   "id": "0c43af38",
   "metadata": {
    "ExecuteTime": {
     "end_time": "2021-10-07T16:40:32.465224Z",
     "start_time": "2021-10-07T16:40:32.453615Z"
    }
   },
   "outputs": [
    {
     "name": "stderr",
     "output_type": "stream",
     "text": [
      "<string>:13: Warning: Found symbol '#' after Lstring. Considered as begining of comments\n",
      "<string>:14: Warning: Found symbol '#' after Lstring. Considered as begining of comments\n",
      "<string>:16: Warning: Found symbol '#' after Lstring. Considered as begining of comments\n",
      "<string>:17: Warning: Found symbol '#' after Lstring. Considered as begining of comments\n"
     ]
    },
    {
     "data": {
      "application/vnd.jupyter.widget-view+json": {
       "model_id": "76655aba0af64af3a6b73c6000df47da",
       "version_major": 2,
       "version_minor": 0
      },
      "text/plain": [
       "LsystemWidget(animate=True, derivationLength=151, is_magic=True, scene={'data': b'x\\xdaSLrw\\xf5\\xf7e`Pp\\xe0\\xe…"
      ]
     },
     "metadata": {},
     "output_type": "display_data"
    }
   ],
   "source": [
    "%%lpy -w 50 -a True\n",
    "\n",
    "Delay = 5\n",
    "LDelay = 10\n",
    "T = 120\n",
    "\n",
    "Axiom: R(T) I(0) A(Delay, 0)\n",
    "\n",
    "derivation length: 150\n",
    "production:\n",
    "consider: R I A B\n",
    "\n",
    "I(x) < A(d,o) :\n",
    "  if x == 1 : produce W   # produce flower\n",
    "  elif d > 0: produce A(d-1, o) # continue to growth\n",
    "  else:\n",
    "    if o == 0: nproduce [ +(60) A(0,o+1) ] # produce lateral apex\n",
    "    else : nproduce [ +(60) /(60) ,(2) ~l ] # or lateral leaf\n",
    "    produce I(0) /(180)  A(Delay if o == 0 else LDelay, o)\n",
    "\n",
    "R(t) --> R(t-1)\n",
    "\n",
    "R(t) < I(x):\n",
    " \t# Wait for the root to propagate\n",
    "\tif t < 0: produce I(1)\n",
    "\n",
    "I(x) < I(s) --> I(x)\n",
    "\n",
    "\n",
    "interpretation:\n",
    "\n",
    "W --> _(0.3) ,(3) @O\n",
    "I(x) --> ,(2 if x ==0 else 4) _(0.1 if x ==0 else 0.2) F\n",
    "\n",
    "endlsystem\n"
   ]
  },
  {
   "cell_type": "code",
   "execution_count": null,
   "id": "cd8e7265",
   "metadata": {},
   "outputs": [],
   "source": []
  }
 ],
 "metadata": {
  "kernelspec": {
   "display_name": "Python 3 (ipykernel)",
   "language": "python",
   "name": "python3"
  },
  "language_info": {
   "codemirror_mode": {
    "name": "ipython",
    "version": 3
   },
   "file_extension": ".py",
   "mimetype": "text/x-python",
   "name": "python",
   "nbconvert_exporter": "python",
   "pygments_lexer": "ipython3",
   "version": "3.9.6"
  }
 },
 "nbformat": 4,
 "nbformat_minor": 5
}
