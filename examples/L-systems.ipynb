{
 "cells": [
  {
   "cell_type": "markdown",
   "metadata": {},
   "source": [
    "# L-systems\n"
   ]
  },
  {
   "cell_type": "code",
   "execution_count": 2,
   "metadata": {},
   "outputs": [],
   "source": [
    "from pgljupyter import *"
   ]
  },
  {
   "cell_type": "markdown",
   "metadata": {},
   "source": [
    "## L-Py syntax\n",
    "Here comes a simple example of L-systems"
   ]
  },
  {
   "cell_type": "code",
   "execution_count": 10,
   "metadata": {},
   "outputs": [
    {
     "data": {
      "application/vnd.jupyter.widget-view+json": {
       "model_id": "adf379eb61864597831b7bf56a69afbf",
       "version_major": 2,
       "version_minor": 0
      },
      "text/plain": [
       "LsystemWidget(animate=True, derivationLength=6, is_magic=True, scene={'data': b'x\\xdaSLrw\\xf5\\xf7e`Pp\\xe0\\xe5R…"
      ]
     },
     "metadata": {},
     "output_type": "display_data"
    }
   ],
   "source": [
    "%%lpy -w 10 -a True\n",
    "from random import random \n",
    "MAX_AGE, dr = 10, 0.03 # constants\n",
    "module Apex(age), Internode(length,radius)\n",
    "Axiom: @Gc Apex(0)\n",
    "derivation length: 5\n",
    "production:\n",
    "Apex(age) :\n",
    "  if age < MAX_AGE:\n",
    "    produce Internode(1+ random(),0.03) /(137)[+(30)Apex(age+1)]Apex(age+1)\n",
    "\n",
    "Internode(l,r) --> Internode(l,r+dr)\n",
    "interpretation:\n",
    "Internode(l,r) --> _(r) F(l)\n",
    "endlsystem"
   ]
  },
  {
   "cell_type": "code",
   "execution_count": 16,
   "metadata": {},
   "outputs": [
    {
     "data": {
      "application/vnd.jupyter.widget-view+json": {
       "model_id": "9540623670bb4e0e917b7a4f290e7704",
       "version_major": 2,
       "version_minor": 0
      },
      "text/plain": [
       "LsystemWidget(derivationLength=2, is_magic=True, scene={'data': b'x\\xda\\x9d\\xd3\\xbfN\\xc2@\\x1c\\x07\\xf0\\x1f\\xff\\…"
      ]
     },
     "metadata": {},
     "output_type": "display_data"
    }
   ],
   "source": [
    "%%lpy -w 10\n",
    "# Sert default angle to 90\n",
    "execContext().turtle.setAngleIncrement(90)\n",
    "\n",
    "Axiom: FFF-FF-F-F+F+FF-F-FFF"
   ]
  },
  {
   "cell_type": "markdown",
   "metadata": {},
   "source": [
    "## Turtle geometry\n",
    "\n",
    "### Creation of a polygon\n",
    "\n",
    "Complete the axiom that will generate the following polygonal shape. Use the command F, + et -. By default, non indicated angles are equal to 90° and length to 1.\n",
    "\n",
    "```python\n",
    "Axiom: ,(2) _(0.02) { . F    ....  } (True)\n",
    "```\n",
    "\n",
    "![mappleleaf](./img/mappleleaf.png)\n",
    "\n"
   ]
  },
  {
   "cell_type": "code",
   "execution_count": 13,
   "metadata": {},
   "outputs": [
    {
     "data": {
      "application/vnd.jupyter.widget-view+json": {
       "model_id": "4cdda4bbe8aa4a32a668e460890c9ded",
       "version_major": 2,
       "version_minor": 0
      },
      "text/plain": [
       "LsystemWidget(derivationLength=2, is_magic=True, scene={'data': b'x\\xda\\x8dTMh\\x13A\\x14~IL\\xb2n\\xba\\xa5-\\xa5\\x…"
      ]
     },
     "metadata": {},
     "output_type": "display_data"
    }
   ],
   "source": [
    "%%lpy\n",
    "\n",
    "Axiom: ,(2) _(0.02) { . F    ....  } (True)"
   ]
  },
  {
   "cell_type": "markdown",
   "metadata": {},
   "source": [
    "## Branch shape\n",
    "\n",
    " - Load the [recursive tree structure](./recursivetree.lpy)\n",
    "\n",
    " - Insert an helio-tropism into the axiom. Test different values of the elasticity. Use command `@Tp` and `@Ts`\n",
    "\n",
    " - Remove tropism and insert a guide at the beginning of each branch. Edit graphically the guide to achieve curved architecture. Use `SetGuide`.\n"
   ]
  },
  {
   "cell_type": "markdown",
   "metadata": {},
   "source": [
    "## Fractals\n",
    "\n",
    "Reproduce the following rule and generate the resulting fractal shape until iteration 3.\n",
    "\n",
    "![peanocurve](./img/peanocurve.png)\n",
    "\n"
   ]
  },
  {
   "cell_type": "code",
   "execution_count": 17,
   "metadata": {},
   "outputs": [
    {
     "data": {
      "application/vnd.jupyter.widget-view+json": {
       "model_id": "714091440c5f4c89b4562b9b7709ef11",
       "version_major": 2,
       "version_minor": 0
      },
      "text/plain": [
       "LsystemWidget(derivationLength=4, is_magic=True, scene={'data': b'x\\xdaSLrw\\xf5\\xf7e`Pp\\xe0\\xe5RPVVda```be\\x08…"
      ]
     },
     "metadata": {},
     "output_type": "display_data"
    }
   ],
   "source": [
    "%%lpy\n",
    "\n",
    "Axiom: -(90) F\n",
    "derivation length: 3\n",
    "production:\n",
    "F --> ..."
   ]
  },
  {
   "cell_type": "markdown",
   "metadata": {},
   "source": [
    "\n",
    "Reproduce the following rule and generate the resulting fractal shap euntil iteration 3.\n",
    "\n",
    "![cantordust](./img/cantordust.png)\n"
   ]
  },
  {
   "cell_type": "code",
   "execution_count": 18,
   "metadata": {},
   "outputs": [
    {
     "data": {
      "application/vnd.jupyter.widget-view+json": {
       "model_id": "39df5f3f901a4ea090d5616ab9a4dd42",
       "version_major": 2,
       "version_minor": 0
      },
      "text/plain": [
       "LsystemWidget(derivationLength=4, is_magic=True, scene={'data': b'x\\xdaSLrw\\xf5\\xf7e`Pp\\xe0\\xe5RPVVda```be\\x08…"
      ]
     },
     "metadata": {},
     "output_type": "display_data"
    }
   ],
   "source": [
    "%%lpy\n",
    "Axiom: -(90) F(1)\n",
    "derivation length: 3\n",
    "production:\n",
    "F --> ..."
   ]
  },
  {
   "cell_type": "markdown",
   "metadata": {},
   "source": [
    "## Signals\n",
    "\n",
    "Complete the [model signal.lpy](./signal.lpy) to simulate the propagation of a signal\n",
    "\n"
   ]
  },
  {
   "cell_type": "markdown",
   "metadata": {},
   "source": [
    "## Environment\n",
    "\n",
    "Test the root model : [grid-rootinsoil2.lpy](./env/grid-rootinsoil2.lpy) with [grid.py](./env/grid.py)\n",
    "\n",
    "Test the light model : [light-growth.lpy](./env/light-growth.lpy) with [light.py](./env/sunDome.py) and [sunDome.py](./env/light.py)"
   ]
  },
  {
   "cell_type": "markdown",
   "metadata": {},
   "source": [
    "## Phyllotaxie\n",
    "\n",
    "Reproduire ces organisations\n",
    "\n",
    "\n",
    "<img src=\"./img/phyllotaxie.png\" width=\"600\">"
   ]
  },
  {
   "cell_type": "markdown",
   "metadata": {},
   "source": [
    "## Arborescence\n",
    "\n",
    "A partir d'une structure binaire et planaire [binarytree.lpy ](./binarytree.lpy ), générer une structure 3D avec un nombre aléatoire de ramifications compris entre 2 et 4.\n",
    "\n",
    "Ajouter de l'heliotropisme."
   ]
  },
  {
   "cell_type": "markdown",
   "metadata": {},
   "source": [
    "## Space Colonization\n",
    "\n",
    "Tester la generation d'un nuage de point avec [pointinprofile.lpy](./pointinprofile.lpy)\n",
    "\n",
    "Completer l'algorithme de colonization de l'espace [spacecolonization-canevas.lpy](./spacecolonization-canevas.lpy)"
   ]
  },
  {
   "cell_type": "code",
   "execution_count": null,
   "metadata": {},
   "outputs": [],
   "source": []
  }
 ],
 "metadata": {
  "kernelspec": {
   "display_name": "Python 3",
   "language": "python",
   "name": "python3"
  },
  "language_info": {
   "codemirror_mode": {
    "name": "ipython",
    "version": 3
   },
   "file_extension": ".py",
   "mimetype": "text/x-python",
   "name": "python",
   "nbconvert_exporter": "python",
   "pygments_lexer": "ipython3",
   "version": "3.8.6"
  },
  "widgets": {
   "application/vnd.jupyter.widget-state+json": {
    "state": {
     "01265f4541164ffeb3c1cc7ffea1d370": {
      "model_module": "@jupyter-widgets/base",
      "model_module_version": "1.2.0",
      "model_name": "LayoutModel",
      "state": {}
     },
     "04b867a2845241a1999936885d1d4755": {
      "model_module": "@jupyter-widgets/base",
      "model_module_version": "1.2.0",
      "model_name": "LayoutModel",
      "state": {}
     },
     "06eaf4cf57cf4ef9858177778f4f277d": {
      "model_module": "pgljupyter",
      "model_module_version": "^0.1.21",
      "model_name": "LsystemWidgetModel",
      "state": {
       "_model_module_version": "^0.1.21",
       "_view_module_version": "^0.1.21",
       "axes_helper": false,
       "derivationLength": 2,
       "is_magic": true,
       "layout": "IPY_MODEL_3edae1f825084dd99cc2cdca62d37d07",
       "light_helper": false,
       "plane": true,
       "size_display": [
        400,
        400
       ],
       "size_world": 1
      }
     },
     "0ef38bce80bb4a2b90d6286628e0184c": {
      "model_module": "@jupyter-widgets/base",
      "model_module_version": "1.2.0",
      "model_name": "LayoutModel",
      "state": {}
     },
     "0ff409b40dae4476bc25c786394fc26b": {
      "model_module": "@jupyter-widgets/base",
      "model_module_version": "1.2.0",
      "model_name": "LayoutModel",
      "state": {}
     },
     "1b24c4628b8e4acbb0ef69458dd66776": {
      "model_module": "pgljupyter",
      "model_module_version": "^0.1.21",
      "model_name": "LsystemWidgetModel",
      "state": {
       "_model_module_version": "^0.1.21",
       "_view_module_version": "^0.1.21",
       "axes_helper": false,
       "derivationLength": 6,
       "is_magic": true,
       "layout": "IPY_MODEL_ead8b60c457b43aa8166607b78c11b33",
       "light_helper": false,
       "plane": true,
       "size_display": [
        400,
        400
       ],
       "size_world": 10
      }
     },
     "1bc6e794710c42cea6e88e6277cac56b": {
      "model_module": "@jupyter-widgets/base",
      "model_module_version": "1.2.0",
      "model_name": "LayoutModel",
      "state": {}
     },
     "1d343990c9644e85a62756db99bfc028": {
      "model_module": "@jupyter-widgets/base",
      "model_module_version": "1.2.0",
      "model_name": "LayoutModel",
      "state": {}
     },
     "26bb9b23859747f2aeac323b8f87906f": {
      "model_module": "pgljupyter",
      "model_module_version": "^0.1.21",
      "model_name": "LsystemWidgetModel",
      "state": {
       "_model_module_version": "^0.1.21",
       "_view_module_version": "^0.1.21",
       "axes_helper": false,
       "derivationLength": 6,
       "is_magic": true,
       "layout": "IPY_MODEL_f5c037235b33478b98589693dc53514f",
       "light_helper": false,
       "plane": true,
       "size_display": [
        400,
        400
       ],
       "size_world": 6
      }
     },
     "3679ddc723c14c29b2c12b711776f9c2": {
      "model_module": "@jupyter-widgets/base",
      "model_module_version": "1.2.0",
      "model_name": "LayoutModel",
      "state": {}
     },
     "39df5f3f901a4ea090d5616ab9a4dd42": {
      "buffers": [
       {
        "data": "eNpTTHJ39fdlYFBw4OVSUFZWZGFgYGBiZQjOSCxIZQSymTkYfBNLUosyE3NAXF4OBufKnMy8lNQiEFecg8G/KDM1ryQ1BcRVBBFMkgzBHo4Brp4u8YbxhiYGZqamZoYmhsYmJiYWIPn/QCDOAAYgbkNx/+Y1QGo/L0SM6+yZM7YMzOwMzvk5+UXxhgukVD7aOOryMzA4OAAAe94lTQ==",
        "encoding": "base64",
        "path": [
         "scene",
         "data"
        ]
       }
      ],
      "model_module": "pgljupyter",
      "model_module_version": "^0.1.21",
      "model_name": "LsystemWidgetModel",
      "state": {
       "_model_module_version": "^0.1.21",
       "_view_module_version": "^0.1.21",
       "axes_helper": false,
       "derivationLength": 4,
       "is_magic": true,
       "layout": "IPY_MODEL_7cb426723d8b4a8da4c4beb812332c61",
       "light_helper": false,
       "plane": true,
       "scene": {
        "derivationStep": 0,
        "id": 0,
        "scene": "<openalea.plantgl.scenegraph._pglsg.Scene object at 0x7fecf1ce3120>"
       },
       "size_display": [
        400,
        400
       ],
       "size_world": 1
      }
     },
     "3edae1f825084dd99cc2cdca62d37d07": {
      "model_module": "@jupyter-widgets/base",
      "model_module_version": "1.2.0",
      "model_name": "LayoutModel",
      "state": {}
     },
     "41aba108f90649b788ac8e760baa6110": {
      "model_module": "pgljupyter",
      "model_module_version": "^0.1.21",
      "model_name": "LsystemWidgetModel",
      "state": {
       "_model_module_version": "^0.1.21",
       "_view_module_version": "^0.1.21",
       "axes_helper": false,
       "derivationLength": 2,
       "is_magic": true,
       "layout": "IPY_MODEL_f5bddce91dbd4b7cb180d25f96dbfd91",
       "light_helper": false,
       "plane": true,
       "size_display": [
        400,
        400
       ],
       "size_world": 1
      }
     },
     "4cdda4bbe8aa4a32a668e460890c9ded": {
      "buffers": [
       {
        "data": "eNqNVE1oE0EUfklMsm66pS2lrdFKQj0JhZ3J7mYjaXalaaOHUiEeK2G1CwZCWpJcCgo59SJaT948FbxUENuj4J68eShSKB68CHoQRI/ipZ1JxzJvY3/msm9m3n7fe+97b7L3K3OLCwAZV1MzU1PZBABE41B96K36GrNjCix4Hb9V9xoRttUUmF1r1JvLfmuAbYeTMO898Kt+h1+OK7DYqvvNjr+cYtuMCndbXrPd8MRBlgNGL0H11s07c7fLNaNGDN0yTYsYhBBqGRf4PWeB3lLV/c0ixJIwu9JYadXo79iPX8WrRRXAdSUYS4bJ6abFc+BQGQitrjN+ZPBou+2Nndf8DLFFOIkEbiPwPKEKc02EwbtBGPzd02vO48vl/4Gnj8GJLqMb1NBZbqBg9ED7GnyZ/4TQl648cvZ2SUmgKz10AKefgSKGQoFy2VTM8PH6z+DvK8WVGcqTb95vb6wGp8ePFDRNqg8y3wGM/v1DPdhc/4bi39+55/RSw/G7/QxIXEvX9SHmN4gZ9nbfzsy89NwQQ3A+BqSwZVJ7hPkNYQZt8okTzoFVqHRmhShSOJ+j9ijzHcHo7e2IG64/Uzg4l8IUKZwv2MYY8xvFDJ8rf5xwD7EODc7sUIoUtk1CJ5jvGEZP33jhhPsfttanTxguCR2pa7PuTDPfibC6pNSHziau8iw3feroyoWhOslbUfG8DB/9dZDU4KTVdeTBlsdQHhi5veVGlFtGFliWQi6cnOax/XxtK87suMiZBx4TD1tc2BFhJ8Q3KV6Pi2LGU8IvIe5Swu9fHRPijE9sr3qHG5IhLg==",
        "encoding": "base64",
        "path": [
         "scene",
         "data"
        ]
       }
      ],
      "model_module": "pgljupyter",
      "model_module_version": "^0.1.21",
      "model_name": "LsystemWidgetModel",
      "state": {
       "_model_module_version": "^0.1.21",
       "_view_module_version": "^0.1.21",
       "axes_helper": false,
       "derivationLength": 2,
       "is_magic": true,
       "layout": "IPY_MODEL_0ff409b40dae4476bc25c786394fc26b",
       "light_helper": false,
       "plane": true,
       "scene": {
        "derivationStep": 0,
        "id": 0,
        "scene": "<openalea.plantgl.scenegraph._pglsg.Scene object at 0x7fecf1ce3c10>"
       },
       "size_display": [
        400,
        400
       ],
       "size_world": 1
      }
     },
     "6d4e4f0c96804e3ca6149c2b796038bf": {
      "model_module": "pgljupyter",
      "model_module_version": "^0.1.21",
      "model_name": "LsystemWidgetModel",
      "state": {
       "_model_module_version": "^0.1.21",
       "_view_module_version": "^0.1.21",
       "axes_helper": false,
       "derivationLength": 6,
       "is_magic": true,
       "layout": "IPY_MODEL_1d343990c9644e85a62756db99bfc028",
       "light_helper": false,
       "plane": true,
       "size_display": [
        400,
        400
       ],
       "size_world": 10
      }
     },
     "714091440c5f4c89b4562b9b7709ef11": {
      "buffers": [
       {
        "data": "eNpTTHJ39fdlYFBw4OVSUFZWZGFgYGBiZQjOSCxIZQSymTkYfBNLUosyE3NAXF4OBufKnMy8lNQiEFecg8G/KDM1ryQ1BcRVBBFMkgzBHo4Brp4u8YbxhiYGZqamZoYmhkYWluZmIHmwPgYwADEbivs3rwFS+3khYlxnz5yxZWBmZ3DOz8kvijdsOK380cZRl5+BwcEBAJ9WIes=",
        "encoding": "base64",
        "path": [
         "scene",
         "data"
        ]
       }
      ],
      "model_module": "pgljupyter",
      "model_module_version": "^0.1.21",
      "model_name": "LsystemWidgetModel",
      "state": {
       "_model_module_version": "^0.1.21",
       "_view_module_version": "^0.1.21",
       "axes_helper": false,
       "derivationLength": 4,
       "is_magic": true,
       "layout": "IPY_MODEL_04b867a2845241a1999936885d1d4755",
       "light_helper": false,
       "plane": true,
       "scene": {
        "derivationStep": 0,
        "id": 0,
        "scene": "<openalea.plantgl.scenegraph._pglsg.Scene object at 0x7fecf1d24cb0>"
       },
       "size_display": [
        400,
        400
       ],
       "size_world": 1
      }
     },
     "72bd7150f446470a9ff675609750ab68": {
      "model_module": "pgljupyter",
      "model_module_version": "^0.1.21",
      "model_name": "LsystemWidgetModel",
      "state": {
       "_model_module_version": "^0.1.21",
       "_view_module_version": "^0.1.21",
       "axes_helper": false,
       "derivationLength": 2,
       "is_magic": true,
       "layout": "IPY_MODEL_3679ddc723c14c29b2c12b711776f9c2",
       "light_helper": false,
       "plane": true,
       "size_display": [
        400,
        400
       ],
       "size_world": 10
      }
     },
     "7cb426723d8b4a8da4c4beb812332c61": {
      "model_module": "@jupyter-widgets/base",
      "model_module_version": "1.2.0",
      "model_name": "LayoutModel",
      "state": {}
     },
     "9540623670bb4e0e917b7a4f290e7704": {
      "buffers": [
       {
        "data": "eNqd1M9OwjAYAPBv/An/AhIwIXqCcCbpuq7bEg0lSNQDwQTvBMMSSRYwGxdvO3nl5kvIzQfwBeAZ5Ohj2IqJHZsE2GXt+vW3b1+71h6uO70uQJXls9V6vZYEgFgS+o/DJ7vA2/E0dIcz2x0PHYV382loPzvjych2xWglDT13bE9m9ijHu9Us3LvDiefwGaM8f1ATQbEz6N+07jq3VwM0UAmiuk41QqlGVcqH4VS48HNlV8vlJcRT0J46U3egrj9XXxetxgkAYxKjygw1qKlspkMVti6/GZAVAUoQliFD1XGMhypRELCdEAlA1EQJ8eFREGOVTUO8xvfm7wt++9iJ6zJuYkzEIiW2cb95FG4EcFOlKR6aDGXOtnEBe3OtsRO3ZNzSCMnw0FQUDgH89e2l8c/inf/tgsA2sEwDiz2YiaoL7Ju6pGuSbiCCkAjPRel+c8+qS7q8YQwV6bTw+xeEKnOMTgO6bpIijy1s6yyk71cZU9YxoqTEY4sROs/18FW1Arpu4TKPLYUrs+B5Hqxj+QQyNBUjcfqUw6vqeOs99W/j8/5o",
        "encoding": "base64",
        "path": [
         "scene",
         "data"
        ]
       }
      ],
      "model_module": "pgljupyter",
      "model_module_version": "^0.1.21",
      "model_name": "LsystemWidgetModel",
      "state": {
       "_model_module_version": "^0.1.21",
       "_view_module_version": "^0.1.21",
       "axes_helper": false,
       "derivationLength": 2,
       "is_magic": true,
       "layout": "IPY_MODEL_f081a36f5b64486d8a9a4caf13102ec1",
       "light_helper": false,
       "plane": true,
       "scene": {
        "derivationStep": 1,
        "id": 1,
        "scene": "<openalea.plantgl.scenegraph._pglsg.Scene object at 0x7fecf1cf2d00>"
       },
       "size_display": [
        400,
        400
       ],
       "size_world": 10
      }
     },
     "998b8d845afb435c956febfc7f9da1ff": {
      "model_module": "@jupyter-widgets/base",
      "model_module_version": "1.2.0",
      "model_name": "LayoutModel",
      "state": {}
     },
     "adf379eb61864597831b7bf56a69afbf": {
      "buffers": [
       {
        "data": "eNqlVX9MW0Ucv1LKT8Upmm10Kqw4Myfk9fX9FNo7VjowC45l0z+UBRnDUVdbLSOAk4xtglPrUNEh/ogbwU1FYyJR2ZbXW+bcFrehUZQlkriZxaAC6hhGkll81xZ2r9THEi+5y917n3vfz/dzn++9nI0lrjVlAGSj69OyLZYcEwAgwQTW1VY9XrNAnRtTQFnV1hq/u8pjUJeZqcDVuNVfX+f2ecnrrBRQ7vM0edzeMHpZ2uySLSYPcsiQkAXWlRaVu+4trrTylVaOEXiekzlRZm0Sd4MKSCdfBuFmTlCH9mOThXRvziyFvxoW4dExZzArgiMwZlcGvGn3c/AF86do9W4n3Nc3AYN9FxB5b1gGwIj37EhqGN0CyTiRyEPS69r7PiDP1Dkma3WO69ptH0bXeG9vWx55FsXjmf0GYzJw+jw+f6UVGSx/FhblqeQRotOz0ukxnFUgqSVT6RnD6dXbI12b5pehJjz4rBy8UjiuRNMk8FucGxwj3ja48HgA0Sl/F9gFQ+yL8EzJ75GUDSRhA6FGUbLRikuyyEqWGErxFD90sQzWdgD84P5uB6X4SGCb8sWJU/C9JgUdZs8H3x5cgfofGp4TfvFseFEjiCQxydGsZqInqsPo2n476f8lzCbbQvha7lJyCDjKhmx7Z8U/jlAwGTaeFhEtEs2ybcnpoLnxOtS6/m8dkXhZIxLDSAUqVpxHpD8aQo6UcwV4/K4x2pYvnU9HnmEv/G3oIGrohUj4egA6uz7XC6+pCk6WWTFGJT3bTBV78eTOqXum5SMOyjaXqirhloAPDqB6RFOy37YK+Td6YX/+SR1KIq2IzPOCtCaGUjxF7l/rgpk/LMXbhjMUSpFHz3wCn7p8DAYsB5HC/wTFVhn1PH9KxzY2OrqNZRhj5Guz0U2R6EQM+3z2iWxpwWSMsjKBq+3iuQFIW4kWjmbePDkNg/ZUtEP+fg5z89UrgKEtL0ksI21RwZvnUW5J4wOw5+UUTNU+gXXmBnB3y0o8dOIC8u35CKOf0/FoyFSkF1+jnchaBRK7+hrNtHf5BvzIEw0KVWoE/tXNbtxVvVMpuvUAojnV3vgWvu+O/fhQSZIeJ1ZzDQgiw22P4RRPk5KxvLCbKGMT2J21P2L75SnF1zKInpladLT8/b8c345e0jGzrDGzIItCdYydruUW8nfmw2m5AFI2SqRstCBjM6Jlomluas0/WrHSGex+WvfoeM3vg+UFplMFd8wjU8fqu+GbremYOjIC83x21jH96oFg85Hj6OSTO2Dp+GP2Hg7oxec0x6QKJXTE6KRnnYqHt6uFv0eh9DFS+nyc+S6iOe077IbZLju+3fqLXjmJlCYSwzCc1BvDKZ4maROrYK45hy75BIrLK+u/QWMVQ0pNAMI3+Cs6FxGjKSbZJoCY6Enq8HrXYgfp/+NCSgLxG7mcaIfRatLZzMyXJ80pxH8ByEX8Rg==",
        "encoding": "base64",
        "path": [
         "scene",
         "data"
        ]
       }
      ],
      "model_module": "pgljupyter",
      "model_module_version": "^0.1.21",
      "model_name": "LsystemWidgetModel",
      "state": {
       "_model_module_version": "^0.1.21",
       "_view_module_version": "^0.1.21",
       "axes_helper": false,
       "derivationLength": 6,
       "is_magic": true,
       "layout": "IPY_MODEL_998b8d845afb435c956febfc7f9da1ff",
       "light_helper": false,
       "plane": true,
       "scene": {
        "derivationStep": 5,
        "id": 5,
        "scene": "<openalea.plantgl.scenegraph._pglsg.Scene object at 0x7fecf1d21120>"
       },
       "size_display": [
        400,
        400
       ],
       "size_world": 10
      }
     },
     "c9691474c98d43619ae6bcb3b789c7d4": {
      "model_module": "pgljupyter",
      "model_module_version": "^0.1.21",
      "model_name": "LsystemWidgetModel",
      "state": {
       "_model_module_version": "^0.1.21",
       "_view_module_version": "^0.1.21",
       "axes_helper": false,
       "derivationLength": 6,
       "is_magic": true,
       "layout": "IPY_MODEL_0ef38bce80bb4a2b90d6286628e0184c",
       "light_helper": false,
       "plane": true,
       "size_display": [
        400,
        400
       ],
       "size_world": 10
      }
     },
     "ead8b60c457b43aa8166607b78c11b33": {
      "model_module": "@jupyter-widgets/base",
      "model_module_version": "1.2.0",
      "model_name": "LayoutModel",
      "state": {}
     },
     "ed46947ad0134de2abc2da87769c35b6": {
      "model_module": "pgljupyter",
      "model_module_version": "^0.1.21",
      "model_name": "LsystemWidgetModel",
      "state": {
       "_model_module_version": "^0.1.21",
       "_view_module_version": "^0.1.21",
       "axes_helper": false,
       "derivationLength": 2,
       "is_magic": true,
       "layout": "IPY_MODEL_01265f4541164ffeb3c1cc7ffea1d370",
       "light_helper": false,
       "plane": true,
       "size_display": [
        400,
        400
       ],
       "size_world": 10
      }
     },
     "f081a36f5b64486d8a9a4caf13102ec1": {
      "model_module": "@jupyter-widgets/base",
      "model_module_version": "1.2.0",
      "model_name": "LayoutModel",
      "state": {}
     },
     "f2c8a00ce20e4f16b8a638b5925bf10d": {
      "model_module": "pgljupyter",
      "model_module_version": "^0.1.21",
      "model_name": "LsystemWidgetModel",
      "state": {
       "_model_module_version": "^0.1.21",
       "_view_module_version": "^0.1.21",
       "axes_helper": false,
       "derivationLength": 6,
       "is_magic": true,
       "layout": "IPY_MODEL_1bc6e794710c42cea6e88e6277cac56b",
       "light_helper": false,
       "plane": true,
       "size_display": [
        400,
        400
       ],
       "size_world": 1
      }
     },
     "f5bddce91dbd4b7cb180d25f96dbfd91": {
      "model_module": "@jupyter-widgets/base",
      "model_module_version": "1.2.0",
      "model_name": "LayoutModel",
      "state": {}
     },
     "f5c037235b33478b98589693dc53514f": {
      "model_module": "@jupyter-widgets/base",
      "model_module_version": "1.2.0",
      "model_name": "LayoutModel",
      "state": {}
     }
    },
    "version_major": 2,
    "version_minor": 0
   }
  }
 },
 "nbformat": 4,
 "nbformat_minor": 2
}
