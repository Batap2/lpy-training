{
 "cells": [
  {
   "cell_type": "markdown",
   "metadata": {},
   "source": [
    "# L-systems\n"
   ]
  },
  {
   "cell_type": "code",
   "execution_count": 2,
   "metadata": {},
   "outputs": [],
   "source": [
    "from pgljupyter import *"
   ]
  },
  {
   "cell_type": "markdown",
   "metadata": {},
   "source": [
    "## L-Py syntax\n",
    "Here comes a simple example of L-systems"
   ]
  },
  {
   "cell_type": "code",
   "execution_count": 10,
   "metadata": {},
   "outputs": [
    {
     "data": {
      "application/vnd.jupyter.widget-view+json": {
       "model_id": "adf379eb61864597831b7bf56a69afbf",
       "version_major": 2,
       "version_minor": 0
      },
      "text/plain": [
       "LsystemWidget(animate=True, derivationLength=6, is_magic=True, scene={'data': b'x\\xdaSLrw\\xf5\\xf7e`Pp\\xe0\\xe5R…"
      ]
     },
     "metadata": {},
     "output_type": "display_data"
    }
   ],
   "source": [
    "%%lpy -w 10 -a True\n",
    "from random import random \n",
    "MAX_AGE, dr = 10, 0.03 # constants\n",
    "module Apex(age), Internode(length,radius)\n",
    "Axiom: @Gc Apex(0)\n",
    "derivation length: 5\n",
    "production:\n",
    "Apex(age) :\n",
    "  if age < MAX_AGE:\n",
    "    produce Internode(1+ random(),0.03) /(137)[+(30)Apex(age+1)]Apex(age+1)\n",
    "\n",
    "Internode(l,r) --> Internode(l,r+dr)\n",
    "interpretation:\n",
    "Internode(l,r) --> _(r) F(l)\n",
    "endlsystem"
   ]
  },
  {
   "cell_type": "code",
   "execution_count": 16,
   "metadata": {},
   "outputs": [
    {
     "data": {
      "application/vnd.jupyter.widget-view+json": {
       "model_id": "9540623670bb4e0e917b7a4f290e7704",
       "version_major": 2,
       "version_minor": 0
      },
      "text/plain": [
       "LsystemWidget(derivationLength=2, is_magic=True, scene={'data': b'x\\xda\\x9d\\xd3\\xbfN\\xc2@\\x1c\\x07\\xf0\\x1f\\xff\\…"
      ]
     },
     "metadata": {},
     "output_type": "display_data"
    }
   ],
   "source": [
    "%%lpy -w 10\n",
    "# Sert default angle to 90\n",
    "execContext().turtle.setAngleIncrement(90)\n",
    "\n",
    "Axiom: FFF-FF-F-F+F+FF-F-FFF"
   ]
  },
  {
   "cell_type": "markdown",
   "metadata": {},
   "source": [
    "## Turtle geometry\n",
    "\n",
    "### Creation of a polygon\n",
    "\n",
    "Complete the axiom that will generate the following polygonal shape. Use the command F, + et -. By default, non indicated angles are equal to 90° and length to 1.\n",
    "\n",
    "```python\n",
    "Axiom: ,(2) _(0.02) { . F    ....  } (True)\n",
    "```\n",
    "\n",
    "![mappleleaf](./img/mappleleaf.png)\n",
    "\n"
   ]
  },
  {
   "cell_type": "code",
   "execution_count": 13,
   "metadata": {},
   "outputs": [
    {
     "data": {
      "application/vnd.jupyter.widget-view+json": {
       "model_id": "4cdda4bbe8aa4a32a668e460890c9ded",
       "version_major": 2,
       "version_minor": 0
      },
      "text/plain": [
       "LsystemWidget(derivationLength=2, is_magic=True, scene={'data': b'x\\xda\\x8dTMh\\x13A\\x14~IL\\xb2n\\xba\\xa5-\\xa5\\x…"
      ]
     },
     "metadata": {},
     "output_type": "display_data"
    }
   ],
   "source": [
    "%%lpy\n",
    "\n",
    "Axiom: ,(2) _(0.02) { . F    ....  } (True)"
   ]
  },
  {
   "cell_type": "markdown",
   "metadata": {},
   "source": [
    "## Branch shape\n",
    "\n",
    " - Load the [recursive tree structure](./recursivetree.lpy)\n",
    "\n",
    " - Insert an helio-tropism into the axiom. Test different values of the elasticity. Use command `@Tp` and `@Ts`\n",
    "\n",
    " - Remove tropism and insert a guide at the beginning of each branch. Edit graphically the guide to achieve curved architecture. Use `SetGuide`.\n"
   ]
  },
  {
   "cell_type": "markdown",
   "metadata": {},
   "source": [
    "## Fractals\n",
    "\n",
    "Reproduce the following rule and generate the resulting fractal shape until iteration 3.\n",
    "\n",
    "![peanocurve](./img/peanocurve.png)\n",
    "\n"
   ]
  },
  {
   "cell_type": "code",
   "execution_count": 17,
   "metadata": {},
   "outputs": [
    {
     "data": {
      "application/vnd.jupyter.widget-view+json": {
       "model_id": "714091440c5f4c89b4562b9b7709ef11",
       "version_major": 2,
       "version_minor": 0
      },
      "text/plain": [
       "LsystemWidget(derivationLength=4, is_magic=True, scene={'data': b'x\\xdaSLrw\\xf5\\xf7e`Pp\\xe0\\xe5RPVVda```be\\x08…"
      ]
     },
     "metadata": {},
     "output_type": "display_data"
    }
   ],
   "source": [
    "%%lpy\n",
    "\n",
    "Axiom: -(90) F\n",
    "derivation length: 3\n",
    "production:\n",
    "F --> ..."
   ]
  },
  {
   "cell_type": "markdown",
   "metadata": {},
   "source": [
    "\n",
    "Reproduce the following rule and generate the resulting fractal shap euntil iteration 3.\n",
    "\n",
    "![cantordust](./img/cantordust.png)\n"
   ]
  },
  {
   "cell_type": "code",
   "execution_count": 18,
   "metadata": {},
   "outputs": [
    {
     "data": {
      "application/vnd.jupyter.widget-view+json": {
       "model_id": "39df5f3f901a4ea090d5616ab9a4dd42",
       "version_major": 2,
       "version_minor": 0
      },
      "text/plain": [
       "LsystemWidget(derivationLength=4, is_magic=True, scene={'data': b'x\\xdaSLrw\\xf5\\xf7e`Pp\\xe0\\xe5RPVVda```be\\x08…"
      ]
     },
     "metadata": {},
     "output_type": "display_data"
    }
   ],
   "source": [
    "%%lpy\n",
    "Axiom: -(90) F(1)\n",
    "derivation length: 3\n",
    "production:\n",
    "F --> ..."
   ]
  },
  {
   "cell_type": "markdown",
   "metadata": {},
   "source": [
    "## Signals\n",
    "\n",
    "Complete the [model signal.lpy](./signal.lpy) to simulate the propagation of a signal\n",
    "\n"
   ]
  },
  {
   "cell_type": "markdown",
   "metadata": {},
   "source": [
    "## Environment\n",
    "\n",
    "Test the root model : [grid-rootinsoil2.lpy](./env/grid-rootinsoil2.lpy) with [grid.py](./env/grid.py)\n",
    "\n",
    "Test the light model : [light-growth.lpy](./env/light-growth.lpy) with [light.py](./env/sunDome.py) and [sunDome.py](./env/light.py)"
   ]
  },
  {
   "cell_type": "markdown",
   "metadata": {},
   "source": [
    "## Phyllotaxie\n",
    "\n",
    "Reproduire ces organisations\n",
    "\n",
    "\n",
    "<img src=\"./img/phyllotaxie.png\" width=\"600\">"
   ]
  },
  {
   "cell_type": "markdown",
   "metadata": {},
   "source": [
    "## Arborescence\n",
    "\n",
    "A partir d'une structure binaire et planaire [binarytree.lpy ](./binarytree.lpy ), générer une structure 3D avec un nombre aléatoire de ramifications compris entre 2 et 4.\n",
    "\n",
    "Ajouter de l'heliotropisme."
   ]
  },
  {
   "cell_type": "markdown",
   "metadata": {},
   "source": [
    "## Space Colonization\n",
    "\n",
    "Tester la generation d'un nuage de point avec [pointinprofile.lpy](./pointinprofile.lpy)\n",
    "\n",
    "Completer l'algorithme de colonization de l'espace [spacecolonization-canevas.lpy](./spacecolonization-canevas.lpy)"
   ]
  },
  {
   "cell_type": "code",
   "execution_count": null,
   "metadata": {},
   "outputs": [],
   "source": []
  }
 ],
 "metadata": {
  "kernelspec": {
   "display_name": "Python 3",
   "language": "python",
   "name": "python3"
  },
  "language_info": {
   "codemirror_mode": {
    "name": "ipython",
    "version": 3
   },
   "file_extension": ".py",
   "mimetype": "text/x-python",
   "name": "python",
   "nbconvert_exporter": "python",
   "pygments_lexer": "ipython3",
   "version": "3.8.6"
  }
 },
 "nbformat": 4,
 "nbformat_minor": 2
}
