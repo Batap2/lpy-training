{
 "cells": [
  {
   "cell_type": "markdown",
   "metadata": {},
   "source": [
    "# L-systems\n"
   ]
  },
  {
   "cell_type": "code",
   "execution_count": 2,
   "metadata": {
    "ExecuteTime": {
     "end_time": "2021-10-07T13:39:16.255186Z",
     "start_time": "2021-10-07T13:39:15.537264Z"
    }
   },
   "outputs": [],
   "source": [
    "from pgljupyter import *"
   ]
  },
  {
   "cell_type": "markdown",
   "metadata": {},
   "source": [
    "## Signals\n",
    "\n",
    "Complete the following model  to simulate the propagation of a signal\n",
    "\n"
   ]
  },
  {
   "cell_type": "code",
   "execution_count": 3,
   "metadata": {
    "ExecuteTime": {
     "end_time": "2021-10-07T13:39:16.648079Z",
     "start_time": "2021-10-07T13:39:16.635529Z"
    }
   },
   "outputs": [
    {
     "name": "stderr",
     "output_type": "stream",
     "text": [
      "<string>:13: Warning: Found symbol '#' after Lstring. Considered as begining of comments\n",
      "<string>:14: Warning: Found symbol '#' after Lstring. Considered as begining of comments\n",
      "<string>:16: Warning: Found symbol '#' after Lstring. Considered as begining of comments\n",
      "<string>:17: Warning: Found symbol '#' after Lstring. Considered as begining of comments\n"
     ]
    },
    {
     "data": {
      "application/vnd.jupyter.widget-view+json": {
       "model_id": "5444857e76d54151825cc4bb1b24e707",
       "version_major": 2,
       "version_minor": 0
      },
      "text/plain": [
       "LsystemWidget(animate=True, derivationLength=151, is_magic=True, scene={'data': b'x\\xdaSLrw\\xf5\\xf7e`Pp\\xe0\\xe…"
      ]
     },
     "metadata": {},
     "output_type": "display_data"
    }
   ],
   "source": [
    "%%lpy -w 50 -a True\n",
    "\n",
    "Delay = 5\n",
    "LDelay = 10\n",
    "T = 120\n",
    "\n",
    "Axiom: R(T) I(0) A(Delay, 0)\n",
    "\n",
    "derivation length: 150\n",
    "production:\n",
    "consider: R I A B\n",
    "\n",
    "I(x) < A(d,o) :\n",
    "  if x == 1 : produce W   # produce flower\n",
    "  elif d > 0: produce A(d-1, o) # continue to growth\n",
    "  else:\n",
    "    if o == 0: nproduce [ +(60) A(0,o+1) ] # produce lateral apex\n",
    "    else : nproduce [ +(60) /(60) ,(2) ~l ] # or lateral leaf\n",
    "    produce I(0) /(180)  A(Delay if o == 0 else LDelay, o)\n",
    "\n",
    "R(t) --> R(t-1)\n",
    "\n",
    "\n",
    "\n",
    "interpretation:\n",
    "\n",
    "W --> _(0.3) ,(3) @O\n",
    "I(x) --> ,(2 if x ==0 else 4) _(0.1 if x ==0 else 0.2) F\n",
    "\n",
    "endlsystem\n"
   ]
  },
  {
   "cell_type": "markdown",
   "metadata": {},
   "source": [
    "### Modelling Fluxes\n",
    "\n",
    "Introduce a destruction ratio\n",
    "Change the source of creation ot the middle "
   ]
  },
  {
   "cell_type": "code",
   "execution_count": 9,
   "metadata": {
    "ExecuteTime": {
     "end_time": "2021-10-07T16:47:28.472993Z",
     "start_time": "2021-10-07T16:47:28.461260Z"
    }
   },
   "outputs": [
    {
     "data": {
      "application/vnd.jupyter.widget-view+json": {
       "model_id": "d83041167943433fbc0a0da898c735fc",
       "version_major": 2,
       "version_minor": 0
      },
      "text/plain": [
       "LsystemWidget(animate=True, derivationLength=201, is_magic=True, scene={'data': b'x\\xda\\x8d\\x96Mk\\x13A\\x18\\x80…"
      ]
     },
     "metadata": {},
     "output_type": "display_data"
    }
   ],
   "source": [
    "%%lpy -w 100 -a True\n",
    "\n",
    "transport_speed = 1/2.\n",
    "\n",
    "nbEntity = 10\n",
    "\n",
    "min_level = 0.01\n",
    "max_level = 10\n",
    "\n",
    "def txt(val):\n",
    "  return str(round(val,2))[:5]\n",
    "\n",
    "Axiom: \n",
    "  nproduce _(2) \n",
    "  for i in range(nbEntity-1):\n",
    "    nproduce I(min_level)\n",
    "  nproduce I(max_level)\n",
    "\n",
    "derivation length: 200\n",
    "production:\n",
    "\n",
    "I(a) < I(p) > I(b) :\n",
    "  produce I(p + (a+b-2*p)*transport_speed)\n",
    "\n",
    "\n",
    "I(p) > I(a):\n",
    "  produce I(p+ (a-p)*transport_speed)\n",
    "\n",
    "I(a) < I(p) :\n",
    "  produce I(p)\n",
    "\n",
    "\n",
    "interpretation:\n",
    "\n",
    "I(a) :\n",
    "    alpha =  (a-min_level)/(max_level-min_level)\n",
    "    a += 0.1\n",
    "    produce InterpolateColors(4,3, alpha)F(3)[-(90)f(5)_(1)F(a)]F(3)\n",
    "\n",
    "endlsystem\n"
   ]
  },
  {
   "cell_type": "markdown",
   "metadata": {},
   "source": [
    "## Environment\n",
    "\n",
    "Test the root model : [grid-rootinsoil2.lpy](./env/grid-rootinsoil2.lpy) with [grid.py](./env/grid.py)\n",
    "\n",
    "Test the light model : [light-growth.lpy](./env/light-growth.lpy) with [light.py](./env/sunDome.py) and [sunDome.py](./env/light.py)"
   ]
  },
  {
   "cell_type": "markdown",
   "metadata": {},
   "source": [
    "## Arborescence\n",
    "\n",
    "A partir d'une structure binaire et planaire [binarytree.lpy ](./binarytree.lpy ), générer une structure 3D avec un nombre aléatoire de ramifications compris entre 2 et 4.\n",
    "\n",
    "Ajouter de l'heliotropisme."
   ]
  },
  {
   "cell_type": "code",
   "execution_count": null,
   "metadata": {
    "ExecuteTime": {
     "end_time": "2021-10-06T15:56:05.066056Z",
     "start_time": "2021-10-06T15:56:05.055224Z"
    }
   },
   "outputs": [],
   "source": [
    "%%lpy -w 10\n",
    "Axiom: A\n",
    "\n",
    "derivation length: 6\n",
    "production:\n",
    "\n",
    "A --> F[+(30) A][-(30) A]P\n",
    "\n",
    "interpretation:\n",
    "\n",
    "P --> [,(3) @O(0.15) ]\n",
    "endlsystem"
   ]
  },
  {
   "cell_type": "markdown",
   "metadata": {},
   "source": [
    "## Space Colonization\n",
    "\n",
    "Tester la generation d'un nuage de point avec [pointinprofile.lpy](./pointinprofile.lpy)\n",
    "\n",
    "Completer l'algorithme de colonization de l'espace [spacecolonization-canevas.lpy](./spacecolonization-canevas.lpy)"
   ]
  },
  {
   "cell_type": "code",
   "execution_count": null,
   "metadata": {
    "ExecuteTime": {
     "end_time": "2021-10-06T15:56:05.469275Z",
     "start_time": "2021-10-06T15:56:05.068402Z"
    }
   },
   "outputs": [],
   "source": [
    "%%lpy -w 30\n",
    "\n",
    "from openalea.plantgl.all import *\n",
    "from random import uniform\n",
    "from math import pi,radians\n",
    "\n",
    "profile = QuantisedFunction(NurbsCurve2D([(0, 0.0181818, 1),\n",
    "         (0.219697, 0.0363636, 1),(0.297727, 0.313636, 1),(0.389394, 0.327273, 1),\n",
    "         (0.593182, 0.290909, 1),(0.688636, 0.0590909, 1),(0.784091, 0.0954545, 1),\n",
    "         (0.884091, 0.172727, 1),(1, 0, 1)] ))\n",
    "\n",
    "def generate_points(nbpoints,size):\n",
    "  pts = []\n",
    "  for i in range(nbpoints):\n",
    "    angle = uniform(0,2 * pi)\n",
    "    ok = False\n",
    "    while not ok:\n",
    "      x,y,z =  uniform(-1,1),uniform(-1,1),uniform(0,1)\n",
    "      if (x**2+y**2) <= profile(z)**2: ok = True\n",
    "    pts.append(Vector3(x,y,z)*size)\n",
    "  return pts\n",
    "\n",
    "pts = generate_points(5000,20)\n",
    "\n",
    "scale = 1\n",
    "grow_dist = 1 * scale\n",
    "killradius = grow_dist * 1\n",
    "perceptionradius = grow_dist * 1.5 \n",
    "min_nb_pt = 5\n",
    "rootpos = Vector3(0,0,1)\n",
    "\n",
    "# place the attractor points into a grid\n",
    "attractor_grid = Point3Grid(pts, 10)\n",
    "\n",
    "rootattr = attractor_grid.query_ball_point(rootpos, perceptionradius)\n",
    "attractor_grid.disable_points(attractor_grid.query_ball_point(rootpos, killradius) )\n",
    "\n",
    "backward()\n",
    "\n",
    "initial_radius = 0.04\n",
    "e = 2.5\n",
    "\n",
    "def piperadius(ris):\n",
    "   return pow(sum([pow(ri,e) for ri in ris]),1./e)\n",
    "\n",
    "module Bud, I, Node, Attractors\n",
    "\n",
    "Axiom: Attractors @Gc Bud(rootpos, rootattr)\n",
    "\n",
    "derivation length: 100\n",
    "production:\n",
    "\n",
    "\n",
    "Bud(pt, atts) :  \n",
    "       # compute mean direction    \n",
    "       # compute new position\n",
    "       # remove closest attractors\n",
    "       # produce active nodes    \n",
    "       pass\n",
    "\n",
    "Node(pt):\n",
    "  # find nearest attractor points in cone of perception of given radius and angle\n",
    "  # if enough attractors are available, produce new bud\n",
    "  pass\n",
    "\n",
    "I(pt, r) >> x([I(lpt, lr)]) :\n",
    "  if len(lr) >= 1:\n",
    "    produce I(pt,piperadius(lr))\n",
    "\n",
    "interpretation:\n",
    "\n",
    "I(pos,radius) --> _(radius) LineTo(pos)\n",
    "Bud(pt, atts) -->  [SetColor(5) Sphere(0.1*scale)]\n",
    "Node(pt) -->  [SetColor(3) Sphere(0.1*scale)]\n",
    "\n",
    "Attractors :\n",
    "  pttodisplay = attractor_grid.get_enabled_points()\n",
    "  if len(pttodisplay) > 0:\n",
    "    nproduce [,(3)\n",
    "    for p in pttodisplay:\n",
    "        nproduce @M(p) Sphere(0.05) \n",
    "    produce ]\n",
    "endlsystem"
   ]
  },
  {
   "cell_type": "code",
   "execution_count": null,
   "metadata": {},
   "outputs": [],
   "source": []
  }
 ],
 "metadata": {
  "kernelspec": {
   "display_name": "Python 3 (ipykernel)",
   "language": "python",
   "name": "python3"
  },
  "language_info": {
   "codemirror_mode": {
    "name": "ipython",
    "version": 3
   },
   "file_extension": ".py",
   "mimetype": "text/x-python",
   "name": "python",
   "nbconvert_exporter": "python",
   "pygments_lexer": "ipython3",
   "version": "3.9.6"
  }
 },
 "nbformat": 4,
 "nbformat_minor": 2
}
