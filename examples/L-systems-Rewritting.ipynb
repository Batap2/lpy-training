{
 "cells": [
  {
   "cell_type": "markdown",
   "metadata": {},
   "source": [
    "# L-systems\n"
   ]
  },
  {
   "cell_type": "code",
   "execution_count": 1,
   "metadata": {
    "ExecuteTime": {
     "end_time": "2021-10-06T16:08:16.001685Z",
     "start_time": "2021-10-06T16:08:15.176442Z"
    }
   },
   "outputs": [],
   "source": [
    "from pgljupyter import *"
   ]
  },
  {
   "cell_type": "markdown",
   "metadata": {},
   "source": [
    "# Fractals\n",
    "\n",
    "## The peano curve\n",
    "\n",
    "Reproduce the following rule and generate the resulting fractal shape until iteration 3.\n",
    "\n",
    "![peanocurve](./img/peanocurve.png)\n",
    "\n"
   ]
  },
  {
   "cell_type": "code",
   "execution_count": 2,
   "metadata": {
    "ExecuteTime": {
     "end_time": "2021-10-06T16:08:16.224121Z",
     "start_time": "2021-10-06T16:08:16.211203Z"
    }
   },
   "outputs": [
    {
     "data": {
      "application/vnd.jupyter.widget-view+json": {
       "model_id": "d27b8401cf8345779bd240bf51c0c616",
       "version_major": 2,
       "version_minor": 0
      },
      "text/plain": [
       "LsystemWidget(derivationLength=4, is_magic=True, scene={'data': b'x\\xdaSLrw\\xf5\\xf7e`Pp\\xe0\\xe5RPVVda```be\\x08…"
      ]
     },
     "metadata": {},
     "output_type": "display_data"
    }
   ],
   "source": [
    "%%lpy -w 5\n",
    "\n",
    "Axiom: -(90)  F\n",
    "derivation length: 3\n",
    "production:\n",
    "F --> ..."
   ]
  },
  {
   "cell_type": "markdown",
   "metadata": {},
   "source": [
    "## The cantor dust\n",
    "\n",
    "Reproduce the following rule and generate the resulting fractal shap euntil iteration 3.\n",
    "\n",
    "![cantordust](./img/cantordust.png)\n"
   ]
  },
  {
   "cell_type": "code",
   "execution_count": 3,
   "metadata": {
    "ExecuteTime": {
     "end_time": "2021-10-06T16:08:19.719672Z",
     "start_time": "2021-10-06T16:08:19.708673Z"
    }
   },
   "outputs": [
    {
     "data": {
      "application/vnd.jupyter.widget-view+json": {
       "model_id": "d671ae8bc5c94829a68f750694564bec",
       "version_major": 2,
       "version_minor": 0
      },
      "text/plain": [
       "LsystemWidget(derivationLength=4, is_magic=True, scene={'data': b'x\\xdaSLrw\\xf5\\xf7e`Pp\\xe0\\xe5RPVVde```be\\x08…"
      ]
     },
     "metadata": {},
     "output_type": "display_data"
    }
   ],
   "source": [
    "%%lpy\n",
    "Axiom: -(90) f(-0.5) F(1)\n",
    "derivation length: 3\n",
    "production:\n",
    "F --> ..."
   ]
  },
  {
   "cell_type": "markdown",
   "metadata": {},
   "source": [
    "## Hilbert curve in 3D"
   ]
  },
  {
   "cell_type": "code",
   "execution_count": 4,
   "metadata": {
    "ExecuteTime": {
     "end_time": "2021-10-06T16:08:21.111982Z",
     "start_time": "2021-10-06T16:08:21.100190Z"
    }
   },
   "outputs": [
    {
     "data": {
      "application/vnd.jupyter.widget-view+json": {
       "model_id": "9120886eb3874d50bc1373c0cec59845",
       "version_major": 2,
       "version_minor": 0
      },
      "text/plain": [
       "LsystemWidget(animate=True, derivationLength=5, is_magic=True, scene={'data': b'x\\xdaSLrw\\xf5\\xf7e`Pp\\xe0\\xe5R…"
      ]
     },
     "metadata": {},
     "output_type": "display_data"
    }
   ],
   "source": [
    "%%lpy -w 40 -a True\n",
    "Axiom: A\n",
    "context().turtle.setAngleIncrement(90)\n",
    "\n",
    "derivation length: 4\n",
    "production:\n",
    "\n",
    "A  --> B-F+CFC+F-D&F^D-F+&&CFC+F+B// \n",
    "B  --> A&F^CFB^F^D^^-F-D^|F^B|FC^F^A// \n",
    "C  --> |D^|F^B-F+C^F^A&&FA&F^C+F+B^F^D// \n",
    "D  --> |CFB-F+B|FA&F^A&&FB-F+B|FC// \n",
    "\n",
    "interpretation:\n",
    "A --> ,(2)\n",
    "B --> ,(3)\n",
    "C --> ,(4)\n",
    "D --> ,(5)\n"
   ]
  },
  {
   "cell_type": "markdown",
   "metadata": {},
   "source": [
    "# Barnley Fern \n",
    "\n",
    "Try to construct the barnley fern model.\n",
    "Modify the R value and the angle to achieve other shape.\n",
    "\n",
    "![fern](./img/barnleyfern.png)\n",
    "![fern](./img/barnleyfern-construction.png)\n"
   ]
  },
  {
   "cell_type": "code",
   "execution_count": 5,
   "metadata": {
    "ExecuteTime": {
     "end_time": "2021-10-06T16:08:25.009209Z",
     "start_time": "2021-10-06T16:08:24.997977Z"
    }
   },
   "outputs": [
    {
     "data": {
      "application/vnd.jupyter.widget-view+json": {
       "model_id": "bd1a8933dd864a1899b5c0b286d784fc",
       "version_major": 2,
       "version_minor": 0
      },
      "text/plain": [
       "LsystemWidget(derivationLength=17, is_magic=True, scene={'data': b'x\\xdaSLrw\\xf5\\xf7e`Pp\\xe0\\xe5RPVVd\\x00\\x020…"
      ]
     },
     "metadata": {},
     "output_type": "display_data"
    }
   ],
   "source": [
    "%%lpy -w 20 \n",
    "\n",
    "R = 1.5\n",
    "Axiom: _(0.01) ,(2) A(1)\n",
    "derivation length: 16\n",
    "production:\n",
    "A(s) --> F(s)-(5)[+B(s/R)]F(s)-(5)[/(180)+B(s/R)]F(s)A(s/R)\n",
    "B(s) --> A(s/R)\n"
   ]
  },
  {
   "cell_type": "markdown",
   "metadata": {},
   "source": [
    "## Tree structure\n",
    "\n",
    "Generate a broccoli shape:\n",
    "\n",
    "Each node has 4 lateral children internode and an apical one.\n",
    "   - Insertion angle for lateral: 40 \n",
    "   - 90 degree between each lateral children\n",
    "Width depends on the order of ramification\n",
    "Scaling factor of 0.5 between each order\n",
    "Finish structure with sphere with size double from terminal internode\n",
    "\n",
    "![broccoli](./img/broccoli.png)"
   ]
  },
  {
   "cell_type": "code",
   "execution_count": 13,
   "metadata": {
    "ExecuteTime": {
     "end_time": "2021-10-06T16:28:11.971912Z",
     "start_time": "2021-10-06T16:28:11.954294Z"
    }
   },
   "outputs": [
    {
     "data": {
      "application/vnd.jupyter.widget-view+json": {
       "model_id": "0f3458effbbe4afb9c784831c6215e73",
       "version_major": 2,
       "version_minor": 0
      },
      "text/plain": [
       "LsystemWidget(animate=True, derivationLength=6, is_magic=True, scene={'data': b'x\\xdaSLrw\\xf5\\xf7e`Pp\\xe0\\xe5R…"
      ]
     },
     "metadata": {},
     "output_type": "display_data"
    }
   ],
   "source": [
    "%%lpy -w 6 -a True\n",
    "a = 40\n",
    "def nextscale(s) :  return s/2.\n",
    "Axiom: ,(2) _(0.3) F(1, 0.25) A(1) \n",
    "production:\n",
    "derivation length:6\n",
    "A(s) :\n",
    "        produce A(nextscale(s))\n",
    "interpretation:\n",
    "A(s) --> @O(2*s)"
   ]
  },
  {
   "cell_type": "markdown",
   "metadata": {
    "ExecuteTime": {
     "end_time": "2021-10-06T13:41:02.257628Z",
     "start_time": "2021-10-06T13:41:02.250438Z"
    }
   },
   "source": [
    "Generate a tree such as a the end of each segment, a random number of lateral segment children (between 2 and 4) are generated.\n",
    "  - Insertion angle: 60\n",
    "  - Divergence angle between segments at the same node: proportionnal to number of segments i.e. 360/nb\n",
    "\n",
    "![randomtree](./img/randomtree.png)"
   ]
  },
  {
   "cell_type": "code",
   "execution_count": 17,
   "metadata": {
    "ExecuteTime": {
     "end_time": "2021-10-06T16:32:33.351443Z",
     "start_time": "2021-10-06T16:32:33.340290Z"
    }
   },
   "outputs": [
    {
     "data": {
      "application/vnd.jupyter.widget-view+json": {
       "model_id": "d25e324bee06457bac9521d658e0a01a",
       "version_major": 2,
       "version_minor": 0
      },
      "text/plain": [
       "LsystemWidget(animate=True, derivationLength=7, is_magic=True, scene={'data': b'x\\xdaSLrw\\xf5\\xf7e`Pp\\xe0\\xe5R…"
      ]
     },
     "metadata": {},
     "output_type": "display_data"
    }
   ],
   "source": [
    "%%lpy -w 10 -a True\n",
    "from random import *\n",
    "Axiom: A\n",
    "\n",
    "derivation length: 6\n",
    "production:\n",
    "\n",
    "A --> F[+(30) A][-(30) A]P\n",
    "\n",
    "interpretation:\n",
    "\n",
    "P --> [,(3) @O(0.15) ]\n",
    "endlsystem"
   ]
  },
  {
   "cell_type": "markdown",
   "metadata": {},
   "source": [
    "## Continuous development"
   ]
  },
  {
   "cell_type": "code",
   "execution_count": 35,
   "metadata": {
    "ExecuteTime": {
     "end_time": "2021-10-06T16:43:04.775698Z",
     "start_time": "2021-10-06T16:43:04.764347Z"
    }
   },
   "outputs": [
    {
     "data": {
      "application/vnd.jupyter.widget-view+json": {
       "model_id": "93687ef404a54cc9a7204785d2b1f3ea",
       "version_major": 2,
       "version_minor": 0
      },
      "text/plain": [
       "LsystemWidget(animate=True, derivationLength=401, is_magic=True, scene={'data': b'x\\xdaSLrw\\xf5\\xf7e`Pp\\xe0\\xe…"
      ]
     },
     "metadata": {},
     "output_type": "display_data"
    }
   ],
   "source": [
    "%%lpy -w 10 -a True\n",
    "\n",
    "phyllochrone = 1/3\n",
    "maxgrowthtime =1\n",
    "Li = 0.5\n",
    "Lf = 1\n",
    "dt = 0.01\n",
    "\n",
    "Axiom: A(0)\n",
    "derivation length: 400\n",
    "production:\n",
    "A(t): \n",
    "    if t > phyllochrone : produce I(0)/(137.5) L(0) A(0)\n",
    "    else: produce A(t+dt)\n",
    "\n",
    "I(t) --> I(min(maxgrowthtime,t+dt))\n",
    "L(t) --> L(min(maxgrowthtime,t+dt))\n",
    "\n",
    "interpretation:\n",
    "I(t) --> F(t * Li)\n",
    "L(t) --> [&(60*t),(2) ~l(t*Lf)]\n"
   ]
  },
  {
   "cell_type": "markdown",
   "metadata": {},
   "source": [
    "## Signals\n",
    "\n",
    "Complete the [model signal.lpy](./signal.lpy) to simulate the propagation of a signal\n",
    "\n"
   ]
  },
  {
   "cell_type": "code",
   "execution_count": 19,
   "metadata": {
    "ExecuteTime": {
     "end_time": "2021-10-06T15:56:05.027006Z",
     "start_time": "2021-10-06T15:56:05.014631Z"
    }
   },
   "outputs": [
    {
     "name": "stderr",
     "output_type": "stream",
     "text": [
      "<string>:13: Warning: Found symbol '#' after Lstring. Considered as begining of comments\n",
      "<string>:14: Warning: Found symbol '#' after Lstring. Considered as begining of comments\n",
      "<string>:16: Warning: Found symbol '#' after Lstring. Considered as begining of comments\n",
      "<string>:17: Warning: Found symbol '#' after Lstring. Considered as begining of comments\n"
     ]
    },
    {
     "data": {
      "application/vnd.jupyter.widget-view+json": {
       "model_id": "4c233cfba4b3475ca6b52e22de2f7675",
       "version_major": 2,
       "version_minor": 0
      },
      "text/plain": [
       "LsystemWidget(animate=True, derivationLength=151, is_magic=True, scene={'data': b'x\\xdaSLrw\\xf5\\xf7e`Pp\\xe0\\xe…"
      ]
     },
     "metadata": {},
     "output_type": "display_data"
    }
   ],
   "source": [
    "%%lpy -w 50 -a True\n",
    "\n",
    "Delay = 5\n",
    "LDelay = 10\n",
    "T = 120\n",
    "\n",
    "Axiom: R(T) I(0) A(Delay, 0)\n",
    "\n",
    "derivation length: 150\n",
    "production:\n",
    "consider: R I A B\n",
    "\n",
    "I(x) < A(d,o) :\n",
    "  if x == 1 : produce W   # produce flower\n",
    "  elif d > 0: produce A(d-1, o) # continue to growth\n",
    "  else:\n",
    "    if o == 0: nproduce [ +(60) A(0,o+1) ] # produce lateral apex\n",
    "    else : nproduce [ +(60) /(60) ,(2) ~l ] # or lateral leaf\n",
    "    produce I(0) /(180)  A(Delay if o == 0 else LDelay, o)\n",
    "\n",
    "R(t) --> R(t-1)\n",
    "\n",
    "\n",
    "\n",
    "interpretation:\n",
    "\n",
    "W --> _(0.3) ,(3) @O\n",
    "I(x) --> ,(2 if x ==0 else 4) _(0.1 if x ==0 else 0.2) F\n",
    "\n",
    "endlsystem\n"
   ]
  },
  {
   "cell_type": "code",
   "execution_count": 20,
   "metadata": {
    "ExecuteTime": {
     "end_time": "2021-10-06T15:56:05.039902Z",
     "start_time": "2021-10-06T15:56:05.028649Z"
    }
   },
   "outputs": [
    {
     "data": {
      "application/vnd.jupyter.widget-view+json": {
       "model_id": "07a59fce08db4452b9d31a1ce253aa9c",
       "version_major": 2,
       "version_minor": 0
      },
      "text/plain": [
       "LsystemWidget(derivationLength=4, is_magic=True, scene={'data': b'x\\xdaSLrw\\xf5\\xf7e`Pp\\xe0\\xe5RPVVde```be\\x08…"
      ]
     },
     "metadata": {},
     "output_type": "display_data"
    }
   ],
   "source": [
    "%%lpy -w 5\n",
    "from math import *\n",
    "Axiom: F(10) R(90) F(10) R(90) F(10) R(-90) F(10)\n",
    "production:\n",
    "derivation length:3\n",
    "\n",
    "F(x) --> F(x/3)\n",
    "\n",
    "F(l) < R(x) --> R(x/2) F(l*sqrt(2)/3) R(x/2)  \n",
    "interpretation:\n",
    "R(x) --> +(x)"
   ]
  },
  {
   "cell_type": "markdown",
   "metadata": {},
   "source": [
    "## Environment\n",
    "\n",
    "Test the root model : [grid-rootinsoil2.lpy](./env/grid-rootinsoil2.lpy) with [grid.py](./env/grid.py)\n",
    "\n",
    "Test the light model : [light-growth.lpy](./env/light-growth.lpy) with [light.py](./env/sunDome.py) and [sunDome.py](./env/light.py)"
   ]
  },
  {
   "cell_type": "markdown",
   "metadata": {},
   "source": [
    "## Phyllotaxie\n",
    "\n",
    "Reproduire ces organisations\n",
    "\n",
    "\n",
    "<img src=\"./img/phyllotaxie.png\" width=\"600\">"
   ]
  },
  {
   "cell_type": "code",
   "execution_count": 21,
   "metadata": {
    "ExecuteTime": {
     "end_time": "2021-10-06T15:56:05.053508Z",
     "start_time": "2021-10-06T15:56:05.042205Z"
    }
   },
   "outputs": [
    {
     "data": {
      "application/vnd.jupyter.widget-view+json": {
       "model_id": "992d2eb74411441d913ebe446cbff765",
       "version_major": 2,
       "version_minor": 0
      },
      "text/plain": [
       "LsystemWidget(derivationLength=2, is_magic=True, scene={'data': b'x\\xda\\x95\\x94\\xcfk\\xd3`\\x18\\xc7\\x9f\\xb6\\xf6\\…"
      ]
     },
     "metadata": {},
     "output_type": "display_data"
    }
   ],
   "source": [
    "%%lpy -w 10\n",
    "Axiom: \n",
    "  for i in range(5):\n",
    "    nproduce F(1) /(137.5) [ &(120) ,(2) ~l(2) ]\n"
   ]
  },
  {
   "cell_type": "markdown",
   "metadata": {},
   "source": [
    "## Arborescence\n",
    "\n",
    "A partir d'une structure binaire et planaire [binarytree.lpy ](./binarytree.lpy ), générer une structure 3D avec un nombre aléatoire de ramifications compris entre 2 et 4.\n",
    "\n",
    "Ajouter de l'heliotropisme."
   ]
  },
  {
   "cell_type": "code",
   "execution_count": 22,
   "metadata": {
    "ExecuteTime": {
     "end_time": "2021-10-06T15:56:05.066056Z",
     "start_time": "2021-10-06T15:56:05.055224Z"
    }
   },
   "outputs": [
    {
     "data": {
      "application/vnd.jupyter.widget-view+json": {
       "model_id": "f224699c76a445be8be1e566a416e6dd",
       "version_major": 2,
       "version_minor": 0
      },
      "text/plain": [
       "LsystemWidget(derivationLength=7, is_magic=True, scene={'data': b'x\\xdaSLrw\\xf5\\xf7e`Pp\\xe0\\xe5RPVVd\\x00\\x020\\…"
      ]
     },
     "metadata": {},
     "output_type": "display_data"
    }
   ],
   "source": [
    "%%lpy -w 10\n",
    "Axiom: A\n",
    "\n",
    "derivation length: 6\n",
    "production:\n",
    "\n",
    "A --> F[+(30) A][-(30) A]P\n",
    "\n",
    "interpretation:\n",
    "\n",
    "P --> [,(3) @O(0.15) ]\n",
    "endlsystem"
   ]
  },
  {
   "cell_type": "markdown",
   "metadata": {},
   "source": [
    "## Space Colonization\n",
    "\n",
    "Tester la generation d'un nuage de point avec [pointinprofile.lpy](./pointinprofile.lpy)\n",
    "\n",
    "Completer l'algorithme de colonization de l'espace [spacecolonization-canevas.lpy](./spacecolonization-canevas.lpy)"
   ]
  },
  {
   "cell_type": "code",
   "execution_count": 23,
   "metadata": {
    "ExecuteTime": {
     "end_time": "2021-10-06T15:56:05.469275Z",
     "start_time": "2021-10-06T15:56:05.068402Z"
    }
   },
   "outputs": [
    {
     "data": {
      "application/vnd.jupyter.widget-view+json": {
       "model_id": "9aaf824b886e41e3ad82d6929713a647",
       "version_major": 2,
       "version_minor": 0
      },
      "text/plain": [
       "LsystemWidget(derivationLength=101, is_magic=True, scene={'data': b'x\\xda\\x9c\\x9dyXM\\xdd\\xdf\\xf0S)C\\x88JR\\x14\\…"
      ]
     },
     "metadata": {},
     "output_type": "display_data"
    }
   ],
   "source": [
    "%%lpy -w 30\n",
    "\n",
    "from openalea.plantgl.all import *\n",
    "from random import uniform\n",
    "from math import pi,radians\n",
    "\n",
    "profile = QuantisedFunction(NurbsCurve2D([(0, 0.0181818, 1),\n",
    "         (0.219697, 0.0363636, 1),(0.297727, 0.313636, 1),(0.389394, 0.327273, 1),\n",
    "         (0.593182, 0.290909, 1),(0.688636, 0.0590909, 1),(0.784091, 0.0954545, 1),\n",
    "         (0.884091, 0.172727, 1),(1, 0, 1)] ))\n",
    "\n",
    "def generate_points(nbpoints,size):\n",
    "  pts = []\n",
    "  for i in range(nbpoints):\n",
    "    angle = uniform(0,2 * pi)\n",
    "    ok = False\n",
    "    while not ok:\n",
    "      x,y,z =  uniform(-1,1),uniform(-1,1),uniform(0,1)\n",
    "      if (x**2+y**2) <= profile(z)**2: ok = True\n",
    "    pts.append(Vector3(x,y,z)*size)\n",
    "  return pts\n",
    "\n",
    "pts = generate_points(5000,20)\n",
    "\n",
    "scale = 1\n",
    "grow_dist = 1 * scale\n",
    "killradius = grow_dist * 1\n",
    "perceptionradius = grow_dist * 1.5 \n",
    "min_nb_pt = 5\n",
    "rootpos = Vector3(0,0,1)\n",
    "\n",
    "# place the attractor points into a grid\n",
    "attractor_grid = Point3Grid(pts, 10)\n",
    "\n",
    "rootattr = attractor_grid.query_ball_point(rootpos, perceptionradius)\n",
    "attractor_grid.disable_points(attractor_grid.query_ball_point(rootpos, killradius) )\n",
    "\n",
    "backward()\n",
    "\n",
    "initial_radius = 0.04\n",
    "e = 2.5\n",
    "\n",
    "def piperadius(ris):\n",
    "   return pow(sum([pow(ri,e) for ri in ris]),1./e)\n",
    "\n",
    "module Bud, I, Node, Attractors\n",
    "\n",
    "Axiom: Attractors @Gc Bud(rootpos, rootattr)\n",
    "\n",
    "derivation length: 100\n",
    "production:\n",
    "\n",
    "\n",
    "Bud(pt, atts) :  \n",
    "       # compute mean direction    \n",
    "       # compute new position\n",
    "       # remove closest attractors\n",
    "       # produce active nodes    \n",
    "       pass\n",
    "\n",
    "Node(pt):\n",
    "  # find nearest attractor points in cone of perception of given radius and angle\n",
    "  # if enough attractors are available, produce new bud\n",
    "  pass\n",
    "\n",
    "I(pt, r) >> x([I(lpt, lr)]) :\n",
    "  if len(lr) >= 1:\n",
    "    produce I(pt,piperadius(lr))\n",
    "\n",
    "interpretation:\n",
    "\n",
    "I(pos,radius) --> _(radius) LineTo(pos)\n",
    "Bud(pt, atts) -->  [SetColor(5) Sphere(0.1*scale)]\n",
    "Node(pt) -->  [SetColor(3) Sphere(0.1*scale)]\n",
    "\n",
    "Attractors :\n",
    "  pttodisplay = attractor_grid.get_enabled_points()\n",
    "  if len(pttodisplay) > 0:\n",
    "    nproduce [,(3)\n",
    "    for p in pttodisplay:\n",
    "        nproduce @M(p) Sphere(0.05) \n",
    "    produce ]\n",
    "endlsystem"
   ]
  },
  {
   "cell_type": "code",
   "execution_count": null,
   "metadata": {},
   "outputs": [],
   "source": []
  }
 ],
 "metadata": {
  "kernelspec": {
   "display_name": "Python 3 (ipykernel)",
   "language": "python",
   "name": "python3"
  },
  "language_info": {
   "codemirror_mode": {
    "name": "ipython",
    "version": 3
   },
   "file_extension": ".py",
   "mimetype": "text/x-python",
   "name": "python",
   "nbconvert_exporter": "python",
   "pygments_lexer": "ipython3",
   "version": "3.9.6"
  }
 },
 "nbformat": 4,
 "nbformat_minor": 2
}
